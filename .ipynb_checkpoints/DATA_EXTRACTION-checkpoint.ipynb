{
 "cells": [
  {
   "cell_type": "code",
   "execution_count": 1,
   "metadata": {
    "_cell_guid": "b1076dfc-b9ad-4769-8c92-a6c4dae69d19",
    "_uuid": "8f2839f25d086af736a60e9eeb907d3b93b6e0e5",
    "execution": {
     "iopub.execute_input": "2023-02-05T21:29:30.465700Z",
     "iopub.status.busy": "2023-02-05T21:29:30.465071Z",
     "iopub.status.idle": "2023-02-05T21:29:30.488587Z",
     "shell.execute_reply": "2023-02-05T21:29:30.487791Z",
     "shell.execute_reply.started": "2023-02-05T21:29:30.465331Z"
    }
   },
   "outputs": [],
   "source": [
    "# This Python 3 environment comes with many helpful analytics libraries installed\n",
    "# It is defined by the kaggle/python Docker image: https://github.com/kaggle/docker-python\n",
    "# For example, here's several helpful packages to load\n",
    "\n",
    "import numpy as np # linear algebra\n",
    "import pandas as pd # data processing, CSV file I/O (e.g. pd.read_csv)\n",
    "\n",
    "# Input data files are available in the read-only \"../input/\" directory\n",
    "# For example, running this (by clicking run or pressing Shift+Enter) will list all files under the input directory\n",
    "\n",
    "import os\n",
    "\n",
    "# You can write up to 20GB to the current directory (/kaggle/working/) that gets preserved as output when you create a version using \"Save & Run All\" \n",
    "# You can also write temporary files to /kaggle/temp/, but they won't be saved outside of the current session"
   ]
  },
  {
   "cell_type": "code",
   "execution_count": 2,
   "metadata": {
    "execution": {
     "iopub.execute_input": "2023-02-05T21:29:30.504049Z",
     "iopub.status.busy": "2023-02-05T21:29:30.503796Z",
     "iopub.status.idle": "2023-02-05T21:29:31.539557Z",
     "shell.execute_reply": "2023-02-05T21:29:31.538579Z",
     "shell.execute_reply.started": "2023-02-05T21:29:30.504026Z"
    }
   },
   "outputs": [],
   "source": [
    "import requests\n",
    "from bs4 import BeautifulSoup\n",
    "\n",
    "url = \"https://www.mouthshut.com/product-reviews/Nike-Shoes-reviews-925792626\"\n",
    "\n",
    "# send a request to the website and get the HTML content\n",
    "response = requests.get(url)\n",
    "html_content = response.content\n",
    "\n"
   ]
  },
  {
   "cell_type": "code",
   "execution_count": 3,
   "metadata": {
    "execution": {
     "iopub.execute_input": "2023-02-05T21:29:31.542600Z",
     "iopub.status.busy": "2023-02-05T21:29:31.541463Z",
     "iopub.status.idle": "2023-02-05T21:29:31.764642Z",
     "shell.execute_reply": "2023-02-05T21:29:31.763714Z",
     "shell.execute_reply.started": "2023-02-05T21:29:31.542562Z"
    }
   },
   "outputs": [],
   "source": [
    "# parse the HTML content using BeautifulSoup\n",
    "soup = BeautifulSoup(html_content, \"html.parser\")"
   ]
  },
  {
   "cell_type": "code",
   "execution_count": 4,
   "metadata": {
    "execution": {
     "iopub.execute_input": "2023-02-05T21:29:31.766711Z",
     "iopub.status.busy": "2023-02-05T21:29:31.766365Z",
     "iopub.status.idle": "2023-02-05T21:29:31.812582Z",
     "shell.execute_reply": "2023-02-05T21:29:31.811594Z",
     "shell.execute_reply.started": "2023-02-05T21:29:31.766678Z"
    }
   },
   "outputs": [],
   "source": [
    "# find the elements with class \"rating\" and \"review\"\n",
    "rating_elements = soup.find_all(class_=\"spnUpdateDate\")\n",
    "review_elements = soup.find_all(class_=\"more reviewdata\")\n",
    "\n",
    "#extract the data from the elements\n",
    "ratings = [element.text for element in rating_elements]\n",
    "reviews = [element.text for element in review_elements]\n"
   ]
  },
  {
   "cell_type": "code",
   "execution_count": 5,
   "metadata": {
    "execution": {
     "iopub.execute_input": "2023-02-05T21:29:31.816558Z",
     "iopub.status.busy": "2023-02-05T21:29:31.816296Z",
     "iopub.status.idle": "2023-02-05T21:29:44.900358Z",
     "shell.execute_reply": "2023-02-05T21:29:44.899181Z",
     "shell.execute_reply.started": "2023-02-05T21:29:31.816533Z"
    }
   },
   "outputs": [
    {
     "name": "stdout",
     "output_type": "stream",
     "text": [
      "Requirement already satisfied: AutoScraper in c:\\users\\asus\\anaconda3\\lib\\site-packages (1.1.14)"
     ]
    },
    {
     "name": "stderr",
     "output_type": "stream",
     "text": [
      "\n",
      "[notice] A new release of pip available: 22.3.1 -> 23.0\n",
      "[notice] To update, run: python.exe -m pip install --upgrade pip\n"
     ]
    },
    {
     "name": "stdout",
     "output_type": "stream",
     "text": [
      "\n",
      "Requirement already satisfied: requests in c:\\users\\asus\\anaconda3\\lib\\site-packages (from AutoScraper) (2.27.1)\n",
      "Requirement already satisfied: bs4 in c:\\users\\asus\\anaconda3\\lib\\site-packages (from AutoScraper) (0.0.1)\n",
      "Requirement already satisfied: lxml in c:\\users\\asus\\anaconda3\\lib\\site-packages (from AutoScraper) (4.8.0)\n",
      "Requirement already satisfied: beautifulsoup4 in c:\\users\\asus\\anaconda3\\lib\\site-packages (from bs4->AutoScraper) (4.11.1)\n",
      "Requirement already satisfied: charset-normalizer~=2.0.0 in c:\\users\\asus\\anaconda3\\lib\\site-packages (from requests->AutoScraper) (2.0.4)\n",
      "Requirement already satisfied: urllib3<1.27,>=1.21.1 in c:\\users\\asus\\anaconda3\\lib\\site-packages (from requests->AutoScraper) (1.26.9)\n",
      "Requirement already satisfied: idna<4,>=2.5 in c:\\users\\asus\\anaconda3\\lib\\site-packages (from requests->AutoScraper) (3.3)\n",
      "Requirement already satisfied: certifi>=2017.4.17 in c:\\users\\asus\\anaconda3\\lib\\site-packages (from requests->AutoScraper) (2021.10.8)\n",
      "Requirement already satisfied: soupsieve>1.2 in c:\\users\\asus\\anaconda3\\lib\\site-packages (from beautifulsoup4->bs4->AutoScraper) (2.3.1)\n"
     ]
    }
   ],
   "source": [
    "!pip install AutoScraper"
   ]
  },
  {
   "cell_type": "code",
   "execution_count": 6,
   "metadata": {
    "execution": {
     "iopub.execute_input": "2023-02-05T21:29:44.903570Z",
     "iopub.status.busy": "2023-02-05T21:29:44.903178Z",
     "iopub.status.idle": "2023-02-05T21:29:44.915967Z",
     "shell.execute_reply": "2023-02-05T21:29:44.914862Z",
     "shell.execute_reply.started": "2023-02-05T21:29:44.903535Z"
    }
   },
   "outputs": [],
   "source": [
    "from autoscraper import AutoScraper"
   ]
  },
  {
   "cell_type": "code",
   "execution_count": 7,
   "metadata": {
    "execution": {
     "iopub.execute_input": "2023-02-05T21:29:44.918669Z",
     "iopub.status.busy": "2023-02-05T21:29:44.917757Z",
     "iopub.status.idle": "2023-02-05T21:29:44.927118Z",
     "shell.execute_reply": "2023-02-05T21:29:44.926081Z",
     "shell.execute_reply.started": "2023-02-05T21:29:44.918623Z"
    }
   },
   "outputs": [],
   "source": [
    "#for different page replace li with their content and explicitely\n",
    "#5*****rating\n",
    "url=\"https://www.consumeraffairs.com/sporting_goods/nike.html?page={}#sort=recent&filter=5\"\n",
    "l1=[\"This is a very comfortable shoe to wear,which is made up of good quality and it is very light weight & its really attracts people specially for the blue in colour\"]\n",
    "l3=[\"best product i've recieved from flpkrt\"]\n",
    "l2=[\"Trusted .\"]\n",
    "l4=[\"i bought this pair of shoes from flipkart . i got dis within 2 days. In this price range shoes are really nice. Built Quality of shoe is really heavy .\"]\n",
    "l5=[\"value for money but the product could have been made available at cheaper rates as other e retailers are offering\"]\n",
    "l6=[\"the item is very good and comfortable too. the delivered item is as it is displayed in the cart. the prices is reasonable. It is worth buying...\"]\n",
    "l7=[\"Please intimate me once this product is available in Size 10. i need this pair of shoes and from last 1 month i am tracking this shoe in (white, blue and black) colour. please intimate my email id is anshu85@gmail.com\"]\n",
    "w=[l1,l2,l3,l4,l5,l6,l7]"
   ]
  },
  {
   "cell_type": "code",
   "execution_count": 8,
   "metadata": {
    "execution": {
     "iopub.execute_input": "2023-02-05T21:29:44.929692Z",
     "iopub.status.busy": "2023-02-05T21:29:44.928834Z",
     "iopub.status.idle": "2023-02-05T21:29:44.941782Z",
     "shell.execute_reply": "2023-02-05T21:29:44.940921Z",
     "shell.execute_reply.started": "2023-02-05T21:29:44.929657Z"
    }
   },
   "outputs": [],
   "source": [
    "# review=[]\n",
    "# for i in range(1,3):\n",
    "#     url=\"https://www.flipkart.com/nike-running-shoes-men/product-reviews/itmf3xwzcg3gjy8b?pid=SHODVHH3ERGMYHSH&lid=LSTSHODVHH3ERGMYHSH4HATK1&aid=overall&certifiedBuyer=false&sortOrder=MOST_HELPFUL&page=2\"\n",
    "#     li=wanted_list[i-1]\n",
    "#     scraper=AutoScraper()\n",
    "#     res=scraper.build(url,li)\n",
    "#     print(res)"
   ]
  },
  {
   "cell_type": "code",
   "execution_count": 9,
   "metadata": {
    "execution": {
     "iopub.execute_input": "2023-02-05T21:29:44.944039Z",
     "iopub.status.busy": "2023-02-05T21:29:44.943559Z",
     "iopub.status.idle": "2023-02-05T21:29:44.956759Z",
     "shell.execute_reply": "2023-02-05T21:29:44.955727Z",
     "shell.execute_reply.started": "2023-02-05T21:29:44.944006Z"
    }
   },
   "outputs": [
    {
     "data": {
      "text/plain": [
       "[['This is a very comfortable shoe to wear,which is made up of good quality and it is very light weight & its really attracts people specially for the blue in colour'],\n",
       " ['Trusted .'],\n",
       " [\"best product i've recieved from flpkrt\"],\n",
       " ['i bought this pair of shoes from flipkart . i got dis within 2 days. In this price range shoes are really nice. Built Quality of shoe is really heavy .'],\n",
       " ['value for money but the product could have been made available at cheaper rates as other e retailers are offering'],\n",
       " ['the item is very good and comfortable too. the delivered item is as it is displayed in the cart. the prices is reasonable. It is worth buying...'],\n",
       " ['Please intimate me once this product is available in Size 10. i need this pair of shoes and from last 1 month i am tracking this shoe in (white, blue and black) colour. please intimate my email id is anshu85@gmail.com']]"
      ]
     },
     "execution_count": 9,
     "metadata": {},
     "output_type": "execute_result"
    }
   ],
   "source": [
    "w"
   ]
  },
  {
   "cell_type": "markdown",
   "metadata": {},
   "source": [
    "**FLIPKART REVIEW**"
   ]
  },
  {
   "cell_type": "code",
   "execution_count": 10,
   "metadata": {
    "execution": {
     "iopub.execute_input": "2023-02-05T21:29:44.960844Z",
     "iopub.status.busy": "2023-02-05T21:29:44.959943Z",
     "iopub.status.idle": "2023-02-05T21:29:57.386732Z",
     "shell.execute_reply": "2023-02-05T21:29:57.385780Z",
     "shell.execute_reply.started": "2023-02-05T21:29:44.960810Z"
    }
   },
   "outputs": [],
   "source": [
    "review=[]\n",
    "#7 pages of review\n",
    "for i in range(1,8):\n",
    "    url=\"https://www.flipkart.com/nike-running-shoes-men/product-reviews/itmf3xwzcg3gjy8b?pid=SHODVHH3ERGMYHSH&lid=LSTSHODVHH3ERGMYHSH4HATK1&aid=overall&certifiedBuyer=false&sortOrder=MOST_HELPFUL&page={}\"\n",
    "    scraper=AutoScraper()\n",
    "    l=w[i-1]\n",
    "    res=scraper.build(url.format(i),l)\n",
    "    review+=res"
   ]
  },
  {
   "cell_type": "code",
   "execution_count": 11,
   "metadata": {
    "execution": {
     "iopub.execute_input": "2023-02-05T21:29:57.391266Z",
     "iopub.status.busy": "2023-02-05T21:29:57.390968Z",
     "iopub.status.idle": "2023-02-05T21:29:57.396545Z",
     "shell.execute_reply": "2023-02-05T21:29:57.395597Z",
     "shell.execute_reply.started": "2023-02-05T21:29:57.391239Z"
    }
   },
   "outputs": [
    {
     "name": "stdout",
     "output_type": "stream",
     "text": [
      "45\n"
     ]
    }
   ],
   "source": [
    "print(len(review))"
   ]
  },
  {
   "cell_type": "markdown",
   "metadata": {},
   "source": [
    "**NIKE FROM TRUSTPILOT WEBSITE**"
   ]
  },
  {
   "cell_type": "code",
   "execution_count": 12,
   "metadata": {
    "execution": {
     "iopub.execute_input": "2023-02-05T21:29:57.398780Z",
     "iopub.status.busy": "2023-02-05T21:29:57.397778Z",
     "iopub.status.idle": "2023-02-05T21:29:59.606454Z",
     "shell.execute_reply": "2023-02-05T21:29:59.605435Z",
     "shell.execute_reply.started": "2023-02-05T21:29:57.398743Z"
    }
   },
   "outputs": [
    {
     "name": "stdout",
     "output_type": "stream",
     "text": [
      "<p class=\"typography_body-l__KUYFJ typography_appearance-default__AAY17 typography_color-black__5LYEn\" data-service-review-text-typography=\"true\">Excelent site and great customer service.<br/>The site is very easy to navigate and the returns are smooth.</p>\n"
     ]
    }
   ],
   "source": [
    "import requests\n",
    "from bs4 import BeautifulSoup\n",
    "\n",
    "url = \"https://www.trustpilot.com/review/www.nike.com?page=2&stars=4&stars=5\"\n",
    "\n",
    "res = requests.get(url)\n",
    "\n",
    "soup = BeautifulSoup(res.text, \"html.parser\")\n",
    "\n",
    "div_tags = soup.find_all(\"article\")\n",
    "p=soup.find_all(\"p\",class_=\"typography_body-l__KUYFJ typography_appearance-default__AAY17 typography_color-black__5LYEn\")\n",
    "\n",
    "print(p[0])"
   ]
  },
  {
   "cell_type": "code",
   "execution_count": 13,
   "metadata": {
    "execution": {
     "iopub.execute_input": "2023-02-05T21:29:59.608406Z",
     "iopub.status.busy": "2023-02-05T21:29:59.607856Z",
     "iopub.status.idle": "2023-02-05T21:30:25.876625Z",
     "shell.execute_reply": "2023-02-05T21:30:25.875532Z",
     "shell.execute_reply.started": "2023-02-05T21:29:59.608370Z"
    }
   },
   "outputs": [
    {
     "name": "stdout",
     "output_type": "stream",
     "text": [
      "784\n"
     ]
    }
   ],
   "source": [
    "rev2=[]\n",
    "#3,4,5 rated\n",
    "for i in range(1,43):\n",
    "    url = \"https://www.trustpilot.com/review/www.nike.com?page={}&stars=3&stars=4&stars=5\"\n",
    "    res = requests.get(url.format(i))\n",
    "    soup = BeautifulSoup(res.text, \"html.parser\")\n",
    "    div_tags = soup.find_all(\"article\")\n",
    "    p=soup.find_all(\"p\",class_=\"typography_body-l__KUYFJ typography_appearance-default__AAY17 typography_color-black__5LYEn\")\n",
    "    l=[]\n",
    "    for i in range(len(p)):\n",
    "        t=p[i].text\n",
    "        l.append(t)\n",
    "    rev2+=l\n",
    "print(len(rev2))\n",
    "    \n",
    "    \n",
    "    "
   ]
  },
  {
   "cell_type": "code",
   "execution_count": 14,
   "metadata": {
    "execution": {
     "iopub.execute_input": "2023-02-05T21:30:25.878837Z",
     "iopub.status.busy": "2023-02-05T21:30:25.878237Z",
     "iopub.status.idle": "2023-02-05T21:30:25.885708Z",
     "shell.execute_reply": "2023-02-05T21:30:25.884636Z",
     "shell.execute_reply.started": "2023-02-05T21:30:25.878798Z"
    }
   },
   "outputs": [
    {
     "data": {
      "text/plain": [
       "['5 stars for Yeezis.',\n",
       " 'I ordered 2 pairs of football boots on a saturday, and they expectedly arrived the following on wednesday. The boots both fit, and both the delivery, order and payment went smooth. Not the first nor the last time I order from Nike.',\n",
       " 'Nike is the most advanced sneaker company in the word. They mix technologies with fashion as no other.',\n",
       " \"Nikes are great, I don't know why there are so many negative reviews. I've been using only Nikes, Jordans, sometimes other sneakers like Vans, however, Nike is a benchmark which shows trends and using technologies as no other.\",\n",
       " 'Fastest way to get my apple watch was to buy it from Nike, faster shipping than apple.Very happy!',\n",
       " \"I ordered 3 pairs of running shoes online and chose to ship them Next Day Air.  I received 2 pairs on time but never got the 3rd pair.  After researching tracking info and email confirmations, I discovered that Nike’s shipping department screwed up.  The tracking #’s emailed to me did not match the shipping cartons received.Nike customer service has confirmed the missing shipment but I have been advised that it will take 1-3 days for investigation (UPS trace) and up to 15 days for resolution.  15 days really??  They already took my money but will take 15 days to come back with a resolution? I am very unsatisfied with Nike’s e-commerce as they can’t ship a 3 line order correctly and the customer service policy backing it up requires half a month.  I thought a company of Nike’s stature would be more professional.-- Update 10/18The missing box got re-routed and delivered 4 days later.  And, Nike sent replacement shoes at their cost.  I will be returning the extra shoes in good faith.  So customer service is good, shipping\\\\fulfillment needs training.  2 up'd to 3 stars.\",\n",
       " 'This product needs to improve their shoe soles.',\n",
       " \"It's seriously the best customer service. It's like their passion is to provide you with the suitable shoes for you.\",\n",
       " 'They have some problem but still most of the time they do the job correctly and from time to time they are still making iconic clothes and shoes, so I personally can forget the various problems that do exist.',\n",
       " 'Great experience.....I bought 2 pairs of air jordans online in the sale and they were delivered in a couple of days, then i checked bak online the next day when i had them to by some more and they had gone down in price, i went to pay for them but couldnt and upon getting assistance from a nike operative online, she gave me a further discount to apologize for the inconvenience and plus added that discount to the shoes that I had bought the other day!DELIGHTED :) great company!']"
      ]
     },
     "execution_count": 14,
     "metadata": {},
     "output_type": "execute_result"
    }
   ],
   "source": [
    "# l=[]\n",
    "# for i in range(len(p)):\n",
    "#     t=p[i].text\n",
    "#     l.append(t)\n",
    "#     print(t)\n",
    "rev2[700:710]"
   ]
  },
  {
   "cell_type": "code",
   "execution_count": 15,
   "metadata": {
    "execution": {
     "iopub.execute_input": "2023-02-05T21:30:25.887864Z",
     "iopub.status.busy": "2023-02-05T21:30:25.887499Z",
     "iopub.status.idle": "2023-02-05T21:30:25.895105Z",
     "shell.execute_reply": "2023-02-05T21:30:25.894268Z",
     "shell.execute_reply.started": "2023-02-05T21:30:25.887829Z"
    }
   },
   "outputs": [],
   "source": [
    "a=rev2[0]"
   ]
  },
  {
   "cell_type": "code",
   "execution_count": 16,
   "metadata": {
    "execution": {
     "iopub.execute_input": "2023-02-05T21:30:25.898726Z",
     "iopub.status.busy": "2023-02-05T21:30:25.898451Z",
     "iopub.status.idle": "2023-02-05T21:30:25.905949Z",
     "shell.execute_reply": "2023-02-05T21:30:25.904920Z",
     "shell.execute_reply.started": "2023-02-05T21:30:25.898702Z"
    }
   },
   "outputs": [
    {
     "name": "stdout",
     "output_type": "stream",
     "text": [
      "Hello,I had returned a product and it has been more than 4 Months and I still have not received my refund, even after repeated reminders. Did not expect this from a company like NIKE. Details are given below. I have been writing to u guys for the last 4 months, but no one is bothered to solve this issue.\n"
     ]
    }
   ],
   "source": [
    "import re\n",
    "#deleting product no\n",
    "a = re.sub(r'\\. Brilliant customer service.*', '.', a)\n",
    "rev2[0]=a\n",
    "\n",
    "print(rev2[0])"
   ]
  },
  {
   "cell_type": "code",
   "execution_count": 17,
   "metadata": {
    "execution": {
     "iopub.execute_input": "2023-02-05T21:30:25.908135Z",
     "iopub.status.busy": "2023-02-05T21:30:25.907582Z",
     "iopub.status.idle": "2023-02-05T21:30:25.918184Z",
     "shell.execute_reply": "2023-02-05T21:30:25.917174Z",
     "shell.execute_reply.started": "2023-02-05T21:30:25.908100Z"
    }
   },
   "outputs": [],
   "source": [
    "import pandas as pd\n",
    "concatenated_list = review+rev2\n",
    "\n",
    "df = pd.DataFrame({'feedback': concatenated_list})"
   ]
  },
  {
   "cell_type": "code",
   "execution_count": 18,
   "metadata": {
    "execution": {
     "iopub.execute_input": "2023-02-05T21:34:19.947494Z",
     "iopub.status.busy": "2023-02-05T21:34:19.946792Z",
     "iopub.status.idle": "2023-02-05T21:34:19.964391Z",
     "shell.execute_reply": "2023-02-05T21:34:19.962762Z",
     "shell.execute_reply.started": "2023-02-05T21:34:19.947451Z"
    }
   },
   "outputs": [],
   "source": [
    "df.to_csv(\"nike_feedback.csv\", index=False)"
   ]
  },
  {
   "cell_type": "code",
   "execution_count": 19,
   "metadata": {
    "execution": {
     "iopub.execute_input": "2023-02-05T21:34:26.401421Z",
     "iopub.status.busy": "2023-02-05T21:34:26.401034Z",
     "iopub.status.idle": "2023-02-05T21:34:26.415915Z",
     "shell.execute_reply": "2023-02-05T21:34:26.414738Z",
     "shell.execute_reply.started": "2023-02-05T21:34:26.401387Z"
    }
   },
   "outputs": [],
   "source": [
    "df=pd.read_csv('nike_feedback.csv')"
   ]
  },
  {
   "cell_type": "code",
   "execution_count": 20,
   "metadata": {
    "execution": {
     "iopub.execute_input": "2023-02-05T21:30:25.954752Z",
     "iopub.status.busy": "2023-02-05T21:30:25.954498Z",
     "iopub.status.idle": "2023-02-05T21:30:25.967646Z",
     "shell.execute_reply": "2023-02-05T21:30:25.966373Z",
     "shell.execute_reply.started": "2023-02-05T21:30:25.954728Z"
    }
   },
   "outputs": [
    {
     "data": {
      "text/html": [
       "<div>\n",
       "<style scoped>\n",
       "    .dataframe tbody tr th:only-of-type {\n",
       "        vertical-align: middle;\n",
       "    }\n",
       "\n",
       "    .dataframe tbody tr th {\n",
       "        vertical-align: top;\n",
       "    }\n",
       "\n",
       "    .dataframe thead th {\n",
       "        text-align: right;\n",
       "    }\n",
       "</style>\n",
       "<table border=\"1\" class=\"dataframe\">\n",
       "  <thead>\n",
       "    <tr style=\"text-align: right;\">\n",
       "      <th></th>\n",
       "      <th>feedback</th>\n",
       "    </tr>\n",
       "  </thead>\n",
       "  <tbody>\n",
       "    <tr>\n",
       "      <th>0</th>\n",
       "      <td>Good comfort.. Good Quality... but i doubt Wea...</td>\n",
       "    </tr>\n",
       "    <tr>\n",
       "      <th>1</th>\n",
       "      <td>So I thought of buying this new shoe (supposed...</td>\n",
       "    </tr>\n",
       "    <tr>\n",
       "      <th>2</th>\n",
       "      <td>This is a really good product by Nike. Very co...</td>\n",
       "    </tr>\n",
       "    <tr>\n",
       "      <th>3</th>\n",
       "      <td>This is a very comfortable shoe to wear,which ...</td>\n",
       "    </tr>\n",
       "    <tr>\n",
       "      <th>4</th>\n",
       "      <td>Pleae dont buy, neither looks like a Nike shoe...</td>\n",
       "    </tr>\n",
       "  </tbody>\n",
       "</table>\n",
       "</div>"
      ],
      "text/plain": [
       "                                            feedback\n",
       "0  Good comfort.. Good Quality... but i doubt Wea...\n",
       "1  So I thought of buying this new shoe (supposed...\n",
       "2  This is a really good product by Nike. Very co...\n",
       "3  This is a very comfortable shoe to wear,which ...\n",
       "4  Pleae dont buy, neither looks like a Nike shoe..."
      ]
     },
     "execution_count": 20,
     "metadata": {},
     "output_type": "execute_result"
    }
   ],
   "source": [
    "df.head()\n"
   ]
  },
  {
   "cell_type": "code",
   "execution_count": 21,
   "metadata": {
    "execution": {
     "iopub.execute_input": "2023-02-05T21:30:25.970448Z",
     "iopub.status.busy": "2023-02-05T21:30:25.970106Z",
     "iopub.status.idle": "2023-02-05T21:30:25.980121Z",
     "shell.execute_reply": "2023-02-05T21:30:25.979114Z",
     "shell.execute_reply.started": "2023-02-05T21:30:25.970415Z"
    }
   },
   "outputs": [
    {
     "data": {
      "text/plain": [
       "0    Good comfort.. Good Quality... but i doubt Wea...\n",
       "1    So I thought of buying this new shoe (supposed...\n",
       "2    This is a really good product by Nike. Very co...\n",
       "3    This is a very comfortable shoe to wear,which ...\n",
       "4    Pleae dont buy, neither looks like a Nike shoe...\n",
       "Name: feedback, dtype: object"
      ]
     },
     "execution_count": 21,
     "metadata": {},
     "output_type": "execute_result"
    }
   ],
   "source": [
    "f=df['feedback']\n",
    "f[0:5]"
   ]
  },
  {
   "cell_type": "markdown",
   "metadata": {},
   "source": [
    "**EDGE CASE FOR FILTERING DATA**"
   ]
  },
  {
   "cell_type": "code",
   "execution_count": 22,
   "metadata": {
    "execution": {
     "iopub.execute_input": "2023-02-05T21:30:25.982103Z",
     "iopub.status.busy": "2023-02-05T21:30:25.981476Z",
     "iopub.status.idle": "2023-02-05T21:30:25.994985Z",
     "shell.execute_reply": "2023-02-05T21:30:25.994034Z",
     "shell.execute_reply.started": "2023-02-05T21:30:25.982070Z"
    }
   },
   "outputs": [
    {
     "name": "stdout",
     "output_type": "stream",
     "text": [
      "                                                 key\n",
      "0  Hello,I had returned a product and it has been...\n",
      "1                   Nike shoes are very comfortable.\n",
      "2      The shoes look great, but they are expensive.\n",
      "3                   I bought a pair of Adidas shoes.\n",
      "4                     I love my new shoes from Puma.\n"
     ]
    }
   ],
   "source": [
    "t=[\"Hello,I had returned a product and it has been more than 4 Months and I still have not received my refund, even after repeated reminders. Did not expect this from a company like NIKE. Details are given below. I have been writing to u guys for the last 4 months, but no one is bothered to solve this issue. Brilliant customer service.ORDER NO\\t:     G10091529199 (29th OCT 2022)\",\n",
    "   \"Nike shoes are very comfortable.\",\n",
    "   \"The shoes look great, but they are expensive.\", \"I bought a pair of Adidas shoes.\",\"I love my new shoes from Puma.\"]\n",
    "\n",
    "df2= pd.DataFrame({\"key\":t})\n",
    "print(df2)\n",
    "# Define keywords that indicate the text is relevant\n",
    "irrrelevant_keywords = ['Adidas','Burberry','Gucci','Jimmy','Salvatore Ferragamo','Bugatti',\n",
    "                       'Airwalk','Lacoste','Lee Cooper','Red Tape','Fila','Balenciaga','Puma',\n",
    "                       'Levis','Tommy Hilfiger','Jordan','Reebok','Woodland',\n",
    "                       'Sparx','Red Chief','Diesel','Calvin Klein','US Polo']\n",
    "\n",
    "# Filter out texts that do not contain the relevant keywor,ds\n",
    "df2 = df2[~df2['key'].apply(lambda x: any([keyword in x for keyword in irrrelevant_keywords]))]\n"
   ]
  },
  {
   "cell_type": "code",
   "execution_count": 23,
   "metadata": {
    "execution": {
     "iopub.execute_input": "2023-02-05T21:30:25.998969Z",
     "iopub.status.busy": "2023-02-05T21:30:25.997877Z",
     "iopub.status.idle": "2023-02-05T21:30:26.009931Z",
     "shell.execute_reply": "2023-02-05T21:30:26.008851Z",
     "shell.execute_reply.started": "2023-02-05T21:30:25.998935Z"
    }
   },
   "outputs": [
    {
     "data": {
      "text/html": [
       "<div>\n",
       "<style scoped>\n",
       "    .dataframe tbody tr th:only-of-type {\n",
       "        vertical-align: middle;\n",
       "    }\n",
       "\n",
       "    .dataframe tbody tr th {\n",
       "        vertical-align: top;\n",
       "    }\n",
       "\n",
       "    .dataframe thead th {\n",
       "        text-align: right;\n",
       "    }\n",
       "</style>\n",
       "<table border=\"1\" class=\"dataframe\">\n",
       "  <thead>\n",
       "    <tr style=\"text-align: right;\">\n",
       "      <th></th>\n",
       "      <th>key</th>\n",
       "    </tr>\n",
       "  </thead>\n",
       "  <tbody>\n",
       "    <tr>\n",
       "      <th>0</th>\n",
       "      <td>Hello,I had returned a product and it has been...</td>\n",
       "    </tr>\n",
       "    <tr>\n",
       "      <th>1</th>\n",
       "      <td>Nike shoes are very comfortable.</td>\n",
       "    </tr>\n",
       "    <tr>\n",
       "      <th>2</th>\n",
       "      <td>The shoes look great, but they are expensive.</td>\n",
       "    </tr>\n",
       "  </tbody>\n",
       "</table>\n",
       "</div>"
      ],
      "text/plain": [
       "                                                 key\n",
       "0  Hello,I had returned a product and it has been...\n",
       "1                   Nike shoes are very comfortable.\n",
       "2      The shoes look great, but they are expensive."
      ]
     },
     "execution_count": 23,
     "metadata": {},
     "output_type": "execute_result"
    }
   ],
   "source": [
    "df2"
   ]
  },
  {
   "cell_type": "code",
   "execution_count": 24,
   "metadata": {
    "execution": {
     "iopub.execute_input": "2023-02-05T21:30:26.011883Z",
     "iopub.status.busy": "2023-02-05T21:30:26.011318Z",
     "iopub.status.idle": "2023-02-05T21:30:26.019344Z",
     "shell.execute_reply": "2023-02-05T21:30:26.018266Z",
     "shell.execute_reply.started": "2023-02-05T21:30:26.011842Z"
    }
   },
   "outputs": [],
   "source": [
    "#lets apply on our dataframe"
   ]
  },
  {
   "cell_type": "markdown",
   "metadata": {},
   "source": [
    "**APPLY CUSTOM EDGE FILTER ON OUR DATA**"
   ]
  },
  {
   "cell_type": "code",
   "execution_count": 25,
   "metadata": {
    "execution": {
     "iopub.execute_input": "2023-02-05T21:30:26.021241Z",
     "iopub.status.busy": "2023-02-05T21:30:26.020768Z",
     "iopub.status.idle": "2023-02-05T21:30:26.030410Z",
     "shell.execute_reply": "2023-02-05T21:30:26.029209Z",
     "shell.execute_reply.started": "2023-02-05T21:30:26.021193Z"
    }
   },
   "outputs": [
    {
     "name": "stdout",
     "output_type": "stream",
     "text": [
      "829\n"
     ]
    }
   ],
   "source": [
    "print(len(df['feedback']))"
   ]
  },
  {
   "cell_type": "code",
   "execution_count": 26,
   "metadata": {
    "execution": {
     "iopub.execute_input": "2023-02-05T21:30:26.032771Z",
     "iopub.status.busy": "2023-02-05T21:30:26.031658Z",
     "iopub.status.idle": "2023-02-05T21:30:26.054501Z",
     "shell.execute_reply": "2023-02-05T21:30:26.053410Z",
     "shell.execute_reply.started": "2023-02-05T21:30:26.032738Z"
    }
   },
   "outputs": [
    {
     "name": "stdout",
     "output_type": "stream",
     "text": [
      "811\n",
      "************irrelevent Data:*********                                               feedback\n",
      "49   Nike do not check their emails, i was sent a s...\n",
      "63   I already submitted a review about Nike and I ...\n",
      "89   Free shipping on all orders sets them apart fr...\n",
      "266  I have ordered Nike running shoes on their off...\n",
      "350  Hi I’m ordering some Jordan’s for my son and r...\n",
      "351  Ordered 2 pairs of Jordan Mid's, not heard fro...\n",
      "408  I ordered a pair of Nike air max 720-818 and N...\n",
      "446  I don't understand how people despise Nike on ...\n",
      "486  Excellent!I've ordered a few times and the onl...\n",
      "551  My first purchase from Nike. Got some Jordan c...\n",
      "569  Best Equipment In The World For Soccer Product...\n",
      "642  This review is exclusively for the Jordan bran...\n",
      "659  I recently visited a local Nike store they ref...\n",
      "704  These shoes are the best! Good design and high...\n",
      "707  I purchased the Easter Edition Jordans not kno...\n",
      "709  Made an order of 2 Jordans and Air Force 1s go...\n",
      "748  Nikes are great, I don't know why there are so...\n",
      "803  I always leaned more towards Adidas..but recen...\n"
     ]
    }
   ],
   "source": [
    "df_irr=df[df['feedback'].apply(lambda x: any([keyword in x for keyword in irrrelevant_keywords]))]\n",
    "df = df[~df['feedback'].apply(lambda x: any([keyword in x for keyword in irrrelevant_keywords]))]\n",
    "print(len(df['feedback']))\n",
    "print(\"************irrelevent Data:*********\",df_irr)"
   ]
  },
  {
   "cell_type": "code",
   "execution_count": 27,
   "metadata": {
    "execution": {
     "iopub.execute_input": "2023-02-05T21:30:26.056725Z",
     "iopub.status.busy": "2023-02-05T21:30:26.055828Z",
     "iopub.status.idle": "2023-02-05T21:30:26.062692Z",
     "shell.execute_reply": "2023-02-05T21:30:26.061929Z",
     "shell.execute_reply.started": "2023-02-05T21:30:26.056685Z"
    }
   },
   "outputs": [],
   "source": [
    "# scraper.set_rule_aliases({'rule_j182':'review'})\n",
    "# scraper.keep_rules(['rule_j182'])\n",
    "# #save model\n",
    "# scraper.save('Nike_review')"
   ]
  },
  {
   "cell_type": "markdown",
   "metadata": {},
   "source": [
    "**PREPROCESS THE DATA**"
   ]
  },
  {
   "cell_type": "code",
   "execution_count": 28,
   "metadata": {
    "execution": {
     "iopub.execute_input": "2023-02-05T21:30:26.064737Z",
     "iopub.status.busy": "2023-02-05T21:30:26.063840Z",
     "iopub.status.idle": "2023-02-05T21:30:27.305588Z",
     "shell.execute_reply": "2023-02-05T21:30:27.304646Z",
     "shell.execute_reply.started": "2023-02-05T21:30:26.064696Z"
    }
   },
   "outputs": [
    {
     "name": "stderr",
     "output_type": "stream",
     "text": [
      "[nltk_data] Downloading package stopwords to\n",
      "[nltk_data]     C:\\Users\\ASUS\\AppData\\Roaming\\nltk_data...\n",
      "[nltk_data]   Package stopwords is already up-to-date!\n"
     ]
    }
   ],
   "source": [
    "import re\n",
    "import nltk\n",
    "nltk.download('stopwords')\n",
    "import string\n",
    "from nltk.corpus import stopwords\n",
    "from nltk.tokenize import word_tokenize\n",
    "\n",
    "def preprocess_text(text):\n",
    "    # Lowercase the text\n",
    "    text = text.lower()\n",
    "\n",
    "    # Remove punctuation and special characters\n",
    "    text = re.sub(r'[^\\w\\s]', '', text)\n",
    "\n",
    "    # Tokenize the text into words\n",
    "    tokens = word_tokenize(text)\n",
    "\n",
    "    # Remove stop words\n",
    "    stop_words = set(stopwords.words(\"english\"))\n",
    "    tokens = [token for token in tokens if token not in stop_words]\n",
    "\n",
    "    # Remove numbers\n",
    "    tokens = [token for token in tokens if not token.isdigit()]\n",
    "\n",
    "    # Join the tokens back into a single string\n",
    "    preprocessed_text = \" \".join(tokens)\n",
    "\n",
    "    return preprocessed_text\n"
   ]
  },
  {
   "cell_type": "code",
   "execution_count": 29,
   "metadata": {
    "execution": {
     "iopub.execute_input": "2023-02-05T21:30:27.314033Z",
     "iopub.status.busy": "2023-02-05T21:30:27.313743Z",
     "iopub.status.idle": "2023-02-05T21:30:27.629155Z",
     "shell.execute_reply": "2023-02-05T21:30:27.628277Z",
     "shell.execute_reply.started": "2023-02-05T21:30:27.314006Z"
    }
   },
   "outputs": [],
   "source": [
    "df['preprocessed_text'] = df['feedback'].apply(preprocess_text)"
   ]
  },
  {
   "cell_type": "code",
   "execution_count": 30,
   "metadata": {
    "execution": {
     "iopub.execute_input": "2023-02-05T21:30:27.631029Z",
     "iopub.status.busy": "2023-02-05T21:30:27.630576Z",
     "iopub.status.idle": "2023-02-05T21:30:27.639911Z",
     "shell.execute_reply": "2023-02-05T21:30:27.638798Z",
     "shell.execute_reply.started": "2023-02-05T21:30:27.630988Z"
    }
   },
   "outputs": [
    {
     "data": {
      "text/plain": [
       "0      good comfort good quality doubt weather fabric...\n",
       "1      thought buying new shoe supposedly new shoe gu...\n",
       "2      really good product nike comfortable wear look...\n",
       "3      comfortable shoe wearwhich made good quality l...\n",
       "4      pleae dont buy neither looks like nike shoes f...\n",
       "                             ...                        \n",
       "824    earlier placed serveral orders nikestoredk web...\n",
       "825    couldnt believe somebody designed trainers ord...\n",
       "826    ordered items unfortunately fit nike gave full...\n",
       "827               recieved fantastic pair trainers brand\n",
       "828     site bomb quite often find things want buy stock\n",
       "Name: preprocessed_text, Length: 811, dtype: object"
      ]
     },
     "execution_count": 30,
     "metadata": {},
     "output_type": "execute_result"
    }
   ],
   "source": [
    "df['preprocessed_text']"
   ]
  },
  {
   "cell_type": "code",
   "execution_count": 31,
   "metadata": {
    "execution": {
     "iopub.execute_input": "2023-02-05T21:30:27.642359Z",
     "iopub.status.busy": "2023-02-05T21:30:27.641420Z",
     "iopub.status.idle": "2023-02-05T21:30:37.111411Z",
     "shell.execute_reply": "2023-02-05T21:30:37.110080Z",
     "shell.execute_reply.started": "2023-02-05T21:30:27.642324Z"
    }
   },
   "outputs": [
    {
     "name": "stdout",
     "output_type": "stream",
     "text": [
      "Requirement already satisfied: nltk in c:\\users\\asus\\anaconda3\\lib\\site-packages (3.7)Note: you may need to restart the kernel to use updated packages.\n",
      "Requirement already satisfied: joblib in c:\\users\\asus\\anaconda3\\lib\\site-packages (from nltk) (1.2.0)\n",
      "Requirement already satisfied: click in c:\\users\\asus\\anaconda3\\lib\\site-packages (from nltk) (8.0.4)\n",
      "Requirement already satisfied: tqdm in c:\\users\\asus\\anaconda3\\lib\\site-packages (from nltk) (4.64.0)\n",
      "Requirement already satisfied: regex>=2021.8.3 in c:\\users\\asus\\anaconda3\\lib\\site-packages (from nltk) (2022.3.15)\n",
      "Requirement already satisfied: colorama in c:\\users\\asus\\anaconda3\\lib\\site-packages (from click->nltk) (0.4.4)\n",
      "\n"
     ]
    },
    {
     "name": "stderr",
     "output_type": "stream",
     "text": [
      "\n",
      "[notice] A new release of pip available: 22.3.1 -> 23.0\n",
      "[notice] To update, run: python.exe -m pip install --upgrade pip\n"
     ]
    }
   ],
   "source": [
    "pip install nltk"
   ]
  },
  {
   "cell_type": "markdown",
   "metadata": {},
   "source": [
    "**FINDING SENTIMENT OF DATA**"
   ]
  },
  {
   "cell_type": "code",
   "execution_count": 32,
   "metadata": {
    "execution": {
     "iopub.execute_input": "2023-02-05T21:30:37.114158Z",
     "iopub.status.busy": "2023-02-05T21:30:37.113436Z",
     "iopub.status.idle": "2023-02-05T21:30:37.537229Z",
     "shell.execute_reply": "2023-02-05T21:30:37.536335Z",
     "shell.execute_reply.started": "2023-02-05T21:30:37.114113Z"
    }
   },
   "outputs": [
    {
     "name": "stderr",
     "output_type": "stream",
     "text": [
      "[nltk_data] Downloading package vader_lexicon to\n",
      "[nltk_data]     C:\\Users\\ASUS\\AppData\\Roaming\\nltk_data...\n",
      "[nltk_data]   Package vader_lexicon is already up-to-date!\n"
     ]
    }
   ],
   "source": [
    "\n",
    "import nltk\n",
    "nltk.download(\"vader_lexicon\")\n",
    "from nltk.sentiment import SentimentIntensityAnalyzer\n",
    "\n",
    "vader = SentimentIntensityAnalyzer()\n",
    "def get_sentiment_score(text):\n",
    "    sentiment = vader.polarity_scores(text)[\"compound\"]\n",
    "    return sentiment\n",
    "\n",
    "df[\"sentiment_score\"] = df['preprocessed_text'].apply(get_sentiment_score)\n"
   ]
  },
  {
   "cell_type": "markdown",
   "metadata": {},
   "source": [
    "**LABEL FOR SENTIMENT**"
   ]
  },
  {
   "cell_type": "code",
   "execution_count": 33,
   "metadata": {
    "execution": {
     "iopub.execute_input": "2023-02-05T21:38:34.386020Z",
     "iopub.status.busy": "2023-02-05T21:38:34.385238Z",
     "iopub.status.idle": "2023-02-05T21:38:34.837760Z",
     "shell.execute_reply": "2023-02-05T21:38:34.836834Z",
     "shell.execute_reply.started": "2023-02-05T21:38:34.385981Z"
    }
   },
   "outputs": [],
   "source": [
    "def get_sentiment_score(text):\n",
    "    sentiment = vader.polarity_scores(text)[\"compound\"]\n",
    "    if sentiment > 0:\n",
    "        return (\"positive\")\n",
    "    elif sentiment < 0:\n",
    "        return (\"negative\")\n",
    "    else:\n",
    "        return (\"neutral\")\n",
    "\n",
    "df[\"label\"] = df[\"feedback\"].apply(get_sentiment_score)\n"
   ]
  },
  {
   "cell_type": "code",
   "execution_count": 34,
   "metadata": {
    "execution": {
     "iopub.execute_input": "2023-02-05T21:38:37.143094Z",
     "iopub.status.busy": "2023-02-05T21:38:37.142734Z",
     "iopub.status.idle": "2023-02-05T21:38:37.151978Z",
     "shell.execute_reply": "2023-02-05T21:38:37.150712Z",
     "shell.execute_reply.started": "2023-02-05T21:38:37.143064Z"
    }
   },
   "outputs": [
    {
     "data": {
      "text/plain": [
       "0      negative\n",
       "1      negative\n",
       "2      positive\n",
       "3      positive\n",
       "4      negative\n",
       "         ...   \n",
       "824    negative\n",
       "825    positive\n",
       "826    positive\n",
       "827    positive\n",
       "828    positive\n",
       "Name: label, Length: 811, dtype: object"
      ]
     },
     "execution_count": 34,
     "metadata": {},
     "output_type": "execute_result"
    }
   ],
   "source": [
    "df['label']"
   ]
  },
  {
   "cell_type": "code",
   "execution_count": 35,
   "metadata": {
    "execution": {
     "iopub.execute_input": "2023-02-05T21:38:40.407102Z",
     "iopub.status.busy": "2023-02-05T21:38:40.404544Z",
     "iopub.status.idle": "2023-02-05T21:38:40.415395Z",
     "shell.execute_reply": "2023-02-05T21:38:40.414461Z",
     "shell.execute_reply.started": "2023-02-05T21:38:40.407065Z"
    }
   },
   "outputs": [
    {
     "data": {
      "text/plain": [
       "0      0.7003\n",
       "1     -0.9137\n",
       "2      0.9798\n",
       "3      0.8479\n",
       "4     -0.2755\n",
       "        ...  \n",
       "824   -0.0220\n",
       "825    0.2263\n",
       "826    0.8442\n",
       "827    0.5574\n",
       "828   -0.4404\n",
       "Name: sentiment_score, Length: 811, dtype: float64"
      ]
     },
     "execution_count": 35,
     "metadata": {},
     "output_type": "execute_result"
    }
   ],
   "source": [
    "df['sentiment_score']"
   ]
  },
  {
   "cell_type": "markdown",
   "metadata": {},
   "source": [
    "**ANALYZE SCORE**"
   ]
  },
  {
   "cell_type": "code",
   "execution_count": 36,
   "metadata": {
    "execution": {
     "iopub.execute_input": "2023-02-05T21:38:44.537119Z",
     "iopub.status.busy": "2023-02-05T21:38:44.536744Z",
     "iopub.status.idle": "2023-02-05T21:38:44.731308Z",
     "shell.execute_reply": "2023-02-05T21:38:44.730246Z",
     "shell.execute_reply.started": "2023-02-05T21:38:44.537086Z"
    }
   },
   "outputs": [
    {
     "data": {
      "image/png": "[encoded data removed]",
      "text/plain": [
       "<Figure size 432x288 with 1 Axes>"
      ]
     },
     "metadata": {
      "needs_background": "light"
     },
     "output_type": "display_data"
    }
   ],
   "source": [
    "import matplotlib.pyplot as plt\n",
    "\n",
    "def plot_sentiment_scores(df):\n",
    "    scores = df[\"sentiment_score\"]\n",
    "    bins = [-1.5, -0.5, 0.5, 1.5]\n",
    "    labels = [\"Negative\", \"Neutral\", \"Positive\"]\n",
    "    \n",
    "    plt.hist(scores, bins=bins, rwidth=0.8, align=\"left\")\n",
    "    plt.xticks(bins)\n",
    "    plt.xlabel(\"Sentiment\")\n",
    "    plt.ylabel(\"Count\")\n",
    "    plt.title(\"Sentiment Score Distribution\")\n",
    "    plt.show()\n",
    "\n",
    "plot_sentiment_scores(df)\n"
   ]
  },
  {
   "cell_type": "code",
   "execution_count": 37,
   "metadata": {
    "execution": {
     "iopub.execute_input": "2023-02-05T21:41:02.904130Z",
     "iopub.status.busy": "2023-02-05T21:41:02.903737Z",
     "iopub.status.idle": "2023-02-05T21:41:02.913066Z",
     "shell.execute_reply": "2023-02-05T21:41:02.912101Z",
     "shell.execute_reply.started": "2023-02-05T21:41:02.904097Z"
    }
   },
   "outputs": [
    {
     "name": "stdout",
     "output_type": "stream",
     "text": [
      "[0.7003, 0.9798, 0.8479, 0.9042, 0.9231, 0.8173, 0.9771, 0.9584, 0.9364, 0.4767]\n"
     ]
    }
   ],
   "source": [
    "scores = df[\"sentiment_score\"]\n",
    "labels = [\"Negative\", \"Neutral\", \"Positive\"]\n",
    "    \n",
    "negative = [i for i in scores if i <0]\n",
    "positive = [i for i in scores if i >0]\n",
    "neutral = [i for i in scores if i ==0]\n",
    "data = [negative, neutral, positive]\n",
    "print(positive[0:10])\n"
   ]
  },
  {
   "cell_type": "code",
   "execution_count": 38,
   "metadata": {
    "execution": {
     "iopub.execute_input": "2023-02-05T21:41:07.808998Z",
     "iopub.status.busy": "2023-02-05T21:41:07.808637Z",
     "iopub.status.idle": "2023-02-05T21:41:08.092079Z",
     "shell.execute_reply": "2023-02-05T21:41:08.091145Z",
     "shell.execute_reply.started": "2023-02-05T21:41:07.808967Z"
    }
   },
   "outputs": [
    {
     "data": {
      "image/png": "[encoded data removed]",
      "text/plain": [
       "<Figure size 1080x720 with 1 Axes>"
      ]
     },
     "metadata": {
      "needs_background": "light"
     },
     "output_type": "display_data"
    }
   ],
   "source": [
    "import matplotlib.pyplot as plt\n",
    "def plot_sentiment_scores(df):\n",
    "    # Convert the sentiment score column to numeric\n",
    "    df[\"sentiment_score\"] = pd.to_numeric(df[\"sentiment_score\"], errors='coerce')\n",
    "    \n",
    "    # Remove the rows with non-numeric values\n",
    "    df.dropna(subset=[\"sentiment_score\"], inplace=True)\n",
    "    \n",
    "    scores = df[\"sentiment_score\"]\n",
    "    labels = [\"Negative\", \"Neutral\", \"Positive\"]\n",
    "    \n",
    "    negative = [i for i in scores if i <= -0.05]\n",
    "    neutral = [i for i in scores if i >= -0.05 and i <= 0.05]\n",
    "    positive = [i for i in scores if i >= 0.05]\n",
    "    \n",
    "    data = [negative, neutral, positive]\n",
    "    fig, ax = plt.subplots(figsize=(15,10))\n",
    "    scores.plot(kind='line', ax=ax, color='blue')\n",
    "    ax.set_ylabel(\"Sentiment Score\", fontsize=20)\n",
    "    ax.set_xlabel(\"Index\", fontsize=20)\n",
    "    ax.set_title(\"Sentiment Score Distribution\", fontsize=30)\n",
    "    ax.tick_params(axis='both', which='major', labelsize=15)\n",
    "    plt.show()\n",
    "\n",
    "plot_sentiment_scores(df)\n",
    "\n",
    "\n"
   ]
  },
  {
   "cell_type": "code",
   "execution_count": 39,
   "metadata": {
    "execution": {
     "iopub.execute_input": "2023-02-05T21:41:14.243369Z",
     "iopub.status.busy": "2023-02-05T21:41:14.242980Z",
     "iopub.status.idle": "2023-02-05T21:41:14.934050Z",
     "shell.execute_reply": "2023-02-05T21:41:14.933122Z",
     "shell.execute_reply.started": "2023-02-05T21:41:14.243335Z"
    }
   },
   "outputs": [
    {
     "data": {
      "image/png": "[encoded data removed]",
      "text/plain": [
       "<Figure size 1080x1080 with 3 Axes>"
      ]
     },
     "metadata": {
      "needs_background": "light"
     },
     "output_type": "display_data"
    }
   ],
   "source": [
    "import pandas as pd\n",
    "import matplotlib.pyplot as plt\n",
    "\n",
    "def plot_sentiment_scores(df):\n",
    "    # Convert the sentiment score column to numeric\n",
    "    df[\"sentiment_score\"] = pd.to_numeric(df[\"sentiment_score\"], errors='coerce')\n",
    "    \n",
    "    # Remove the rows with non-numeric values\n",
    "    df.dropna(subset=[\"sentiment_score\"], inplace=True)\n",
    "    \n",
    "    # Create three separate dataframes for the positive, neutral, and negative labels\n",
    "    df_positive = df[df[\"label\"] == \"positive\"]\n",
    "    df_neutral = df[df[\"label\"] == \"neutral\"]\n",
    "    df_negative = df[df[\"label\"] == \"negative\"]\n",
    "    \n",
    "    # Plot the sentiment scores for each label\n",
    "    fig, ax = plt.subplots(3, figsize=(15,15), sharex=True, sharey=True)\n",
    "    \n",
    "    df_positive[\"sentiment_score\"].plot(kind='line', ax=ax[0], color='green')\n",
    "    ax[0].set_ylabel(\"Sentiment Score\", fontsize=20)\n",
    "    ax[0].set_title(\"Positive Sentiment Score\", fontsize=30)\n",
    "    ax[0].tick_params(axis='both', which='major', labelsize=15)\n",
    "    \n",
    "    df_neutral[\"sentiment_score\"].plot(kind='line', ax=ax[1], color='blue')\n",
    "    ax[1].set_ylabel(\"Sentiment Score\", fontsize=20)\n",
    "    ax[1].set_title(\"Neutral Sentiment Score\", fontsize=30)\n",
    "    ax[1].tick_params(axis='both', which='major', labelsize=15)\n",
    "    \n",
    "    df_negative[\"sentiment_score\"].plot(kind='line', ax=ax[2], color='red')\n",
    "    ax[2].set_ylabel(\"Sentiment Score\", fontsize=20)\n",
    "    ax[2].set_title(\"Negative Sentiment Score\", fontsize=30)\n",
    "    ax[2].set_xlabel(\"Index\", fontsize=20)\n",
    "    ax[2].tick_params(axis='both', which='major', labelsize=15)\n",
    "    \n",
    "    plt.show()\n",
    "\n",
    "plot_sentiment_scores(df)\n"
   ]
  },
  {
   "cell_type": "code",
   "execution_count": 40,
   "metadata": {
    "execution": {
     "iopub.execute_input": "2023-02-05T21:30:39.285911Z",
     "iopub.status.busy": "2023-02-05T21:30:39.281201Z",
     "iopub.status.idle": "2023-02-05T21:30:39.306665Z",
     "shell.execute_reply": "2023-02-05T21:30:39.305808Z",
     "shell.execute_reply.started": "2023-02-05T21:30:39.285869Z"
    }
   },
   "outputs": [],
   "source": [
    "df.to_csv('sent_prepro_nike.csv',index=False)"
   ]
  },
  {
   "cell_type": "code",
   "execution_count": 41,
   "metadata": {
    "execution": {
     "iopub.execute_input": "2023-02-05T21:30:39.309141Z",
     "iopub.status.busy": "2023-02-05T21:30:39.308491Z",
     "iopub.status.idle": "2023-02-05T21:30:39.322697Z",
     "shell.execute_reply": "2023-02-05T21:30:39.321759Z",
     "shell.execute_reply.started": "2023-02-05T21:30:39.309108Z"
    }
   },
   "outputs": [],
   "source": [
    "df_n=pd.read_csv('nike_feedback.csv')"
   ]
  },
  {
   "cell_type": "code",
   "execution_count": 42,
   "metadata": {
    "execution": {
     "iopub.execute_input": "2023-02-05T21:30:39.327284Z",
     "iopub.status.busy": "2023-02-05T21:30:39.326575Z",
     "iopub.status.idle": "2023-02-05T21:30:39.340277Z",
     "shell.execute_reply": "2023-02-05T21:30:39.338677Z",
     "shell.execute_reply.started": "2023-02-05T21:30:39.327233Z"
    }
   },
   "outputs": [
    {
     "data": {
      "text/plain": [
       "(                                            feedback\n",
       " 0  Good comfort.. Good Quality... but i doubt Wea...\n",
       " 1  So I thought of buying this new shoe (supposed...\n",
       " 2  This is a really good product by Nike. Very co...\n",
       " 3  This is a very comfortable shoe to wear,which ...\n",
       " 4  Pleae dont buy, neither looks like a Nike shoe...,\n",
       " 829)"
      ]
     },
     "execution_count": 42,
     "metadata": {},
     "output_type": "execute_result"
    }
   ],
   "source": [
    "df_n.head(),  df_n.size"
   ]
  },
  {
   "cell_type": "code",
   "execution_count": 43,
   "metadata": {
    "execution": {
     "iopub.execute_input": "2023-02-05T21:30:39.344860Z",
     "iopub.status.busy": "2023-02-05T21:30:39.343239Z",
     "iopub.status.idle": "2023-02-05T21:30:39.365306Z",
     "shell.execute_reply": "2023-02-05T21:30:39.364533Z",
     "shell.execute_reply.started": "2023-02-05T21:30:39.344825Z"
    }
   },
   "outputs": [],
   "source": [
    "#applying edge case filter\n",
    "df_n = df_n[~df_n['feedback'].apply(lambda x: any([keyword in x for keyword in irrrelevant_keywords]))]"
   ]
  },
  {
   "cell_type": "code",
   "execution_count": 44,
   "metadata": {
    "execution": {
     "iopub.execute_input": "2023-02-05T21:30:39.369988Z",
     "iopub.status.busy": "2023-02-05T21:30:39.369276Z",
     "iopub.status.idle": "2023-02-05T21:30:39.384882Z",
     "shell.execute_reply": "2023-02-05T21:30:39.383965Z",
     "shell.execute_reply.started": "2023-02-05T21:30:39.369947Z"
    }
   },
   "outputs": [
    {
     "data": {
      "text/html": [
       "<div>\n",
       "<style scoped>\n",
       "    .dataframe tbody tr th:only-of-type {\n",
       "        vertical-align: middle;\n",
       "    }\n",
       "\n",
       "    .dataframe tbody tr th {\n",
       "        vertical-align: top;\n",
       "    }\n",
       "\n",
       "    .dataframe thead th {\n",
       "        text-align: right;\n",
       "    }\n",
       "</style>\n",
       "<table border=\"1\" class=\"dataframe\">\n",
       "  <thead>\n",
       "    <tr style=\"text-align: right;\">\n",
       "      <th></th>\n",
       "      <th>feedback</th>\n",
       "    </tr>\n",
       "  </thead>\n",
       "  <tbody>\n",
       "    <tr>\n",
       "      <th>0</th>\n",
       "      <td>Good comfort.. Good Quality... but i doubt Wea...</td>\n",
       "    </tr>\n",
       "    <tr>\n",
       "      <th>1</th>\n",
       "      <td>So I thought of buying this new shoe (supposed...</td>\n",
       "    </tr>\n",
       "    <tr>\n",
       "      <th>2</th>\n",
       "      <td>This is a really good product by Nike. Very co...</td>\n",
       "    </tr>\n",
       "    <tr>\n",
       "      <th>3</th>\n",
       "      <td>This is a very comfortable shoe to wear,which ...</td>\n",
       "    </tr>\n",
       "    <tr>\n",
       "      <th>4</th>\n",
       "      <td>Pleae dont buy, neither looks like a Nike shoe...</td>\n",
       "    </tr>\n",
       "    <tr>\n",
       "      <th>...</th>\n",
       "      <td>...</td>\n",
       "    </tr>\n",
       "    <tr>\n",
       "      <th>806</th>\n",
       "      <td>Earlier I have placed serveral orders from the...</td>\n",
       "    </tr>\n",
       "    <tr>\n",
       "      <th>807</th>\n",
       "      <td>Couldn't believe it when somebody designed me ...</td>\n",
       "    </tr>\n",
       "    <tr>\n",
       "      <th>808</th>\n",
       "      <td>I ordered some items which unfortunately did n...</td>\n",
       "    </tr>\n",
       "    <tr>\n",
       "      <th>809</th>\n",
       "      <td>Recieved a fantastic pair of trainers here , w...</td>\n",
       "    </tr>\n",
       "    <tr>\n",
       "      <th>810</th>\n",
       "      <td>This site is the bomb! but quite often I find ...</td>\n",
       "    </tr>\n",
       "  </tbody>\n",
       "</table>\n",
       "<p>811 rows × 1 columns</p>\n",
       "</div>"
      ],
      "text/plain": [
       "                                              feedback\n",
       "0    Good comfort.. Good Quality... but i doubt Wea...\n",
       "1    So I thought of buying this new shoe (supposed...\n",
       "2    This is a really good product by Nike. Very co...\n",
       "3    This is a very comfortable shoe to wear,which ...\n",
       "4    Pleae dont buy, neither looks like a Nike shoe...\n",
       "..                                                 ...\n",
       "806  Earlier I have placed serveral orders from the...\n",
       "807  Couldn't believe it when somebody designed me ...\n",
       "808  I ordered some items which unfortunately did n...\n",
       "809  Recieved a fantastic pair of trainers here , w...\n",
       "810  This site is the bomb! but quite often I find ...\n",
       "\n",
       "[811 rows x 1 columns]"
      ]
     },
     "execution_count": 44,
     "metadata": {},
     "output_type": "execute_result"
    }
   ],
   "source": [
    "df_n.reset_index(drop=True)"
   ]
  },
  {
   "cell_type": "code",
   "execution_count": 45,
   "metadata": {
    "execution": {
     "iopub.execute_input": "2023-02-05T21:30:39.387918Z",
     "iopub.status.busy": "2023-02-05T21:30:39.386992Z",
     "iopub.status.idle": "2023-02-05T21:30:39.395275Z",
     "shell.execute_reply": "2023-02-05T21:30:39.394436Z",
     "shell.execute_reply.started": "2023-02-05T21:30:39.387879Z"
    }
   },
   "outputs": [],
   "source": [
    "f=df_n['feedback']"
   ]
  },
  {
   "cell_type": "code",
   "execution_count": 46,
   "metadata": {
    "execution": {
     "iopub.execute_input": "2023-02-05T21:30:39.398830Z",
     "iopub.status.busy": "2023-02-05T21:30:39.397294Z",
     "iopub.status.idle": "2023-02-05T21:30:39.408209Z",
     "shell.execute_reply": "2023-02-05T21:30:39.407257Z",
     "shell.execute_reply.started": "2023-02-05T21:30:39.398796Z"
    }
   },
   "outputs": [
    {
     "data": {
      "text/plain": [
       "811"
      ]
     },
     "execution_count": 46,
     "metadata": {},
     "output_type": "execute_result"
    }
   ],
   "source": [
    "f.size"
   ]
  },
  {
   "cell_type": "markdown",
   "metadata": {},
   "source": [
    "**CREATING TARGET LABEL/MASKED**"
   ]
  },
  {
   "cell_type": "markdown",
   "metadata": {},
   "source": [
    "#apply on our dataframe\n",
    "#Stop words are commonly used words that are often removed from \n",
    "#text data as they carry little meaning and can contribute \n",
    "#to the curse of dimensionality in certain NLP tasks. \n",
    "#but we are removing it as our 1st experiment tos see how model works \n",
    "#but it could also result in losing important information if \n",
    "#the masked word is a stop word.\n",
    "#2nd possible\n",
    "#On the other hand, if stop words are not removed, the model may be \n",
    "#overburdened by the additional noise and may not perform as well \n",
    "#as it could with reduced data."
   ]
  },
  {
   "cell_type": "markdown",
   "metadata": {},
   "source": [
    "# ****1st case preprocess/remove stop word/lower/remove no****"
   ]
  },
  {
   "cell_type": "code",
   "execution_count": 47,
   "metadata": {
    "execution": {
     "iopub.execute_input": "2023-02-05T21:30:39.411333Z",
     "iopub.status.busy": "2023-02-05T21:30:39.409866Z",
     "iopub.status.idle": "2023-02-05T21:30:39.424147Z",
     "shell.execute_reply": "2023-02-05T21:30:39.423155Z",
     "shell.execute_reply.started": "2023-02-05T21:30:39.411298Z"
    }
   },
   "outputs": [],
   "source": [
    "def prepro_text(text):\n",
    "    # Lowercase the text\n",
    "    text = text.lower()\n",
    "\n",
    "    # Remove punctuation and special characters\n",
    "    text = re.sub(r'[^\\w\\s]', '', text)\n",
    "    #split it in word\n",
    "    text=text.split(' ')\n",
    "\n",
    "    # Remove stop words\n",
    "    stop_words = set(stopwords.words(\"english\"))\n",
    "    words2 = [word for word in text if word not in stop_words]\n",
    "\n",
    "    # Remove numbers\n",
    "    words = [word for word in words2 if not word.isdigit()]\n",
    "\n",
    "    # Join the words back into a single string\n",
    "    preprocessed_text = \" \".join(words)\n",
    "\n",
    "    return preprocessed_text\n"
   ]
  },
  {
   "cell_type": "code",
   "execution_count": 48,
   "metadata": {
    "execution": {
     "iopub.execute_input": "2023-02-05T21:30:39.426303Z",
     "iopub.status.busy": "2023-02-05T21:30:39.425569Z",
     "iopub.status.idle": "2023-02-05T21:30:39.638045Z",
     "shell.execute_reply": "2023-02-05T21:30:39.636988Z",
     "shell.execute_reply.started": "2023-02-05T21:30:39.426262Z"
    }
   },
   "outputs": [],
   "source": [
    "df_n['feedback']=df_n['feedback'].apply(prepro_text)"
   ]
  },
  {
   "cell_type": "code",
   "execution_count": 49,
   "metadata": {
    "execution": {
     "iopub.execute_input": "2023-02-05T21:30:39.646358Z",
     "iopub.status.busy": "2023-02-05T21:30:39.642909Z",
     "iopub.status.idle": "2023-02-05T21:30:39.653079Z",
     "shell.execute_reply": "2023-02-05T21:30:39.652078Z",
     "shell.execute_reply.started": "2023-02-05T21:30:39.646292Z"
    }
   },
   "outputs": [],
   "source": [
    "f=df_n['feedback']"
   ]
  },
  {
   "cell_type": "code",
   "execution_count": 50,
   "metadata": {
    "execution": {
     "iopub.execute_input": "2023-02-05T21:30:39.660927Z",
     "iopub.status.busy": "2023-02-05T21:30:39.658169Z",
     "iopub.status.idle": "2023-02-05T21:30:39.673095Z",
     "shell.execute_reply": "2023-02-05T21:30:39.672070Z",
     "shell.execute_reply.started": "2023-02-05T21:30:39.660891Z"
    }
   },
   "outputs": [
    {
     "data": {
      "text/plain": [
       "0    good comfort good quality doubt weather fabric...\n",
       "1    thought buying new shoe supposedly new shoe gu...\n",
       "2    really good product nike comfortable wear look...\n",
       "3    comfortable shoe wearwhich made good quality l...\n",
       "4    pleae dont buy neither looks like nike shoes  ...\n",
       "Name: feedback, dtype: object"
      ]
     },
     "execution_count": 50,
     "metadata": {},
     "output_type": "execute_result"
    }
   ],
   "source": [
    "f.head()"
   ]
  },
  {
   "cell_type": "code",
   "execution_count": 51,
   "metadata": {
    "execution": {
     "iopub.execute_input": "2023-02-05T21:30:39.679135Z",
     "iopub.status.busy": "2023-02-05T21:30:39.677543Z",
     "iopub.status.idle": "2023-02-05T21:30:39.687769Z",
     "shell.execute_reply": "2023-02-05T21:30:39.686777Z",
     "shell.execute_reply.started": "2023-02-05T21:30:39.679100Z"
    }
   },
   "outputs": [],
   "source": [
    "#A FUNCTION FOR AUTAMATIC TASK OF CREATING SINGLE MASKED WORD IN EACH TEXT/ROW OF FEED\n",
    "#BACK FEATURE\n",
    "import random\n",
    "def mask_text(text):\n",
    "    #splitting it in word\n",
    "    words = text.split()\n",
    "    #random masked word\n",
    "    masked_word = random.choice(words)\n",
    "    #replace this word to the [Masked]\n",
    "    masked_text = text.replace(masked_word, '[Mask]')\n",
    "    #create target column having corresponding masked word\n",
    "    target = masked_word\n",
    "    return masked_text, target\n",
    "\n"
   ]
  },
  {
   "cell_type": "code",
   "execution_count": 52,
   "metadata": {
    "execution": {
     "iopub.execute_input": "2023-02-05T21:30:39.692610Z",
     "iopub.status.busy": "2023-02-05T21:30:39.690907Z",
     "iopub.status.idle": "2023-02-05T21:30:39.709411Z",
     "shell.execute_reply": "2023-02-05T21:30:39.708585Z",
     "shell.execute_reply.started": "2023-02-05T21:30:39.692572Z"
    }
   },
   "outputs": [],
   "source": [
    "df_n['masked_text'], df_n['target_word'] = zip(*df_n['feedback'].apply(mask_text))\n",
    "\n"
   ]
  },
  {
   "cell_type": "code",
   "execution_count": 53,
   "metadata": {
    "execution": {
     "iopub.execute_input": "2023-02-05T21:30:39.715775Z",
     "iopub.status.busy": "2023-02-05T21:30:39.713478Z",
     "iopub.status.idle": "2023-02-05T21:30:39.733929Z",
     "shell.execute_reply": "2023-02-05T21:30:39.733031Z",
     "shell.execute_reply.started": "2023-02-05T21:30:39.715740Z"
    }
   },
   "outputs": [
    {
     "data": {
      "text/html": [
       "<div>\n",
       "<style scoped>\n",
       "    .dataframe tbody tr th:only-of-type {\n",
       "        vertical-align: middle;\n",
       "    }\n",
       "\n",
       "    .dataframe tbody tr th {\n",
       "        vertical-align: top;\n",
       "    }\n",
       "\n",
       "    .dataframe thead th {\n",
       "        text-align: right;\n",
       "    }\n",
       "</style>\n",
       "<table border=\"1\" class=\"dataframe\">\n",
       "  <thead>\n",
       "    <tr style=\"text-align: right;\">\n",
       "      <th></th>\n",
       "      <th>masked_text</th>\n",
       "      <th>target_word</th>\n",
       "    </tr>\n",
       "  </thead>\n",
       "  <tbody>\n",
       "    <tr>\n",
       "      <th>0</th>\n",
       "      <td>[Mask] comfort [Mask] quality doubt weather fa...</td>\n",
       "      <td>good</td>\n",
       "    </tr>\n",
       "    <tr>\n",
       "      <th>1</th>\n",
       "      <td>thought buying new shoe supposedly new shoe gu...</td>\n",
       "      <td>near</td>\n",
       "    </tr>\n",
       "    <tr>\n",
       "      <th>2</th>\n",
       "      <td>really [Mask] product nike comfortable wear lo...</td>\n",
       "      <td>good</td>\n",
       "    </tr>\n",
       "    <tr>\n",
       "      <th>3</th>\n",
       "      <td>comfortable shoe wearwhich made good quality l...</td>\n",
       "      <td>attracts</td>\n",
       "    </tr>\n",
       "    <tr>\n",
       "      <th>4</th>\n",
       "      <td>pleae dont buy neither looks like nike shoes  ...</td>\n",
       "      <td>cheap</td>\n",
       "    </tr>\n",
       "    <tr>\n",
       "      <th>...</th>\n",
       "      <td>...</td>\n",
       "      <td>...</td>\n",
       "    </tr>\n",
       "    <tr>\n",
       "      <th>824</th>\n",
       "      <td>earlier [Mask] serveral orders nikestoredk web...</td>\n",
       "      <td>placed</td>\n",
       "    </tr>\n",
       "    <tr>\n",
       "      <th>825</th>\n",
       "      <td>couldnt believe somebody designed trainers ord...</td>\n",
       "      <td>accepted</td>\n",
       "    </tr>\n",
       "    <tr>\n",
       "      <th>826</th>\n",
       "      <td>[Mask]ed items unfortunately fit nike gave ful...</td>\n",
       "      <td>order</td>\n",
       "    </tr>\n",
       "    <tr>\n",
       "      <th>827</th>\n",
       "      <td>recieved fantastic pair [Mask]  brand</td>\n",
       "      <td>trainers</td>\n",
       "    </tr>\n",
       "    <tr>\n",
       "      <th>828</th>\n",
       "      <td>site bomb quite often find things [Mask] buy s...</td>\n",
       "      <td>want</td>\n",
       "    </tr>\n",
       "  </tbody>\n",
       "</table>\n",
       "<p>811 rows × 2 columns</p>\n",
       "</div>"
      ],
      "text/plain": [
       "                                           masked_text target_word\n",
       "0    [Mask] comfort [Mask] quality doubt weather fa...        good\n",
       "1    thought buying new shoe supposedly new shoe gu...        near\n",
       "2    really [Mask] product nike comfortable wear lo...        good\n",
       "3    comfortable shoe wearwhich made good quality l...    attracts\n",
       "4    pleae dont buy neither looks like nike shoes  ...       cheap\n",
       "..                                                 ...         ...\n",
       "824  earlier [Mask] serveral orders nikestoredk web...      placed\n",
       "825  couldnt believe somebody designed trainers ord...    accepted\n",
       "826  [Mask]ed items unfortunately fit nike gave ful...       order\n",
       "827              recieved fantastic pair [Mask]  brand    trainers\n",
       "828  site bomb quite often find things [Mask] buy s...        want\n",
       "\n",
       "[811 rows x 2 columns]"
      ]
     },
     "execution_count": 53,
     "metadata": {},
     "output_type": "execute_result"
    }
   ],
   "source": [
    "df_n[['masked_text','target_word']]"
   ]
  },
  {
   "cell_type": "code",
   "execution_count": 54,
   "metadata": {
    "execution": {
     "iopub.execute_input": "2023-02-05T21:30:39.738341Z",
     "iopub.status.busy": "2023-02-05T21:30:39.737997Z",
     "iopub.status.idle": "2023-02-05T21:30:39.753269Z",
     "shell.execute_reply": "2023-02-05T21:30:39.752169Z",
     "shell.execute_reply.started": "2023-02-05T21:30:39.738311Z"
    }
   },
   "outputs": [
    {
     "data": {
      "text/plain": [
       "Int64Index([16, 18, 22, 594], dtype='int64')"
      ]
     },
     "execution_count": 54,
     "metadata": {},
     "output_type": "execute_result"
    }
   ],
   "source": [
    "#duplicate feedback check\n",
    "duplicates = df_n.duplicated(subset='masked_text')\n",
    "duplicated_indexes = df_n[duplicates].index\n",
    "duplicated_indexes\n"
   ]
  },
  {
   "cell_type": "code",
   "execution_count": 55,
   "metadata": {
    "execution": {
     "iopub.execute_input": "2023-02-05T21:30:39.756864Z",
     "iopub.status.busy": "2023-02-05T21:30:39.756600Z",
     "iopub.status.idle": "2023-02-05T21:30:39.765409Z",
     "shell.execute_reply": "2023-02-05T21:30:39.764278Z",
     "shell.execute_reply.started": "2023-02-05T21:30:39.756840Z"
    }
   },
   "outputs": [
    {
     "name": "stdout",
     "output_type": "stream",
     "text": [
      "brilliant\n",
      "[Mask]\n",
      "love\n",
      "[Mask]\n",
      "awesome product\n",
      "[Mask] product\n",
      "amazing shoes\n",
      "[Mask] shoes\n"
     ]
    }
   ],
   "source": [
    "for i in duplicated_indexes:\n",
    "    print(df_n['feedback'][i])\n",
    "    print(df_n['masked_text'][i])"
   ]
  },
  {
   "cell_type": "code",
   "execution_count": 56,
   "metadata": {
    "execution": {
     "iopub.execute_input": "2023-02-05T21:30:39.767584Z",
     "iopub.status.busy": "2023-02-05T21:30:39.766829Z",
     "iopub.status.idle": "2023-02-05T21:30:39.777588Z",
     "shell.execute_reply": "2023-02-05T21:30:39.776377Z",
     "shell.execute_reply.started": "2023-02-05T21:30:39.767399Z"
    }
   },
   "outputs": [
    {
     "data": {
      "text/plain": [
       "Int64Index([210], dtype='int64')"
      ]
     },
     "execution_count": 56,
     "metadata": {},
     "output_type": "execute_result"
    }
   ],
   "source": [
    "duplicates = df_n.duplicated(subset='feedback')\n",
    "duplicated_indexes = df_n[duplicates].index\n",
    "duplicated_indexes"
   ]
  },
  {
   "cell_type": "code",
   "execution_count": 57,
   "metadata": {
    "execution": {
     "iopub.execute_input": "2023-02-05T21:30:39.779947Z",
     "iopub.status.busy": "2023-02-05T21:30:39.779602Z",
     "iopub.status.idle": "2023-02-05T21:30:39.785542Z",
     "shell.execute_reply": "2023-02-05T21:30:39.784499Z",
     "shell.execute_reply.started": "2023-02-05T21:30:39.779914Z"
    }
   },
   "outputs": [
    {
     "name": "stdout",
     "output_type": "stream",
     "text": [
      "order package came time everything right\n",
      "order package came time [Mask] right\n"
     ]
    }
   ],
   "source": [
    "for i in duplicated_indexes:\n",
    "    print(df_n['feedback'][i])\n",
    "    print(df_n['masked_text'][i])"
   ]
  },
  {
   "cell_type": "markdown",
   "metadata": {},
   "source": [
    "# 1. by analyzing above there is not any duplicate row"
   ]
  },
  {
   "cell_type": "code",
   "execution_count": 58,
   "metadata": {
    "execution": {
     "iopub.execute_input": "2023-02-05T21:30:39.787985Z",
     "iopub.status.busy": "2023-02-05T21:30:39.787279Z",
     "iopub.status.idle": "2023-02-05T21:30:39.795199Z",
     "shell.execute_reply": "2023-02-05T21:30:39.794290Z",
     "shell.execute_reply.started": "2023-02-05T21:30:39.787944Z"
    }
   },
   "outputs": [],
   "source": [
    "#df_n= df_n.drop_duplicates(subset='masked_text', keep='first')\n"
   ]
  },
  {
   "cell_type": "code",
   "execution_count": 59,
   "metadata": {
    "execution": {
     "iopub.execute_input": "2023-02-05T21:30:39.797487Z",
     "iopub.status.busy": "2023-02-05T21:30:39.796519Z",
     "iopub.status.idle": "2023-02-05T21:30:39.807290Z",
     "shell.execute_reply": "2023-02-05T21:30:39.805638Z",
     "shell.execute_reply.started": "2023-02-05T21:30:39.797371Z"
    }
   },
   "outputs": [
    {
     "data": {
      "text/plain": [
       "Index(['feedback', 'masked_text', 'target_word'], dtype='object')"
      ]
     },
     "execution_count": 59,
     "metadata": {},
     "output_type": "execute_result"
    }
   ],
   "source": [
    "df_n.columns"
   ]
  },
  {
   "cell_type": "markdown",
   "metadata": {},
   "source": [
    "we need only masked text and target word"
   ]
  },
  {
   "cell_type": "code",
   "execution_count": 60,
   "metadata": {
    "execution": {
     "iopub.execute_input": "2023-02-05T21:30:39.809159Z",
     "iopub.status.busy": "2023-02-05T21:30:39.808751Z",
     "iopub.status.idle": "2023-02-05T21:30:39.815834Z",
     "shell.execute_reply": "2023-02-05T21:30:39.814594Z",
     "shell.execute_reply.started": "2023-02-05T21:30:39.809115Z"
    }
   },
   "outputs": [],
   "source": [
    "df_masked=df_n[['masked_text','target_word']]"
   ]
  },
  {
   "cell_type": "code",
   "execution_count": 61,
   "metadata": {
    "execution": {
     "iopub.execute_input": "2023-02-05T21:30:39.818197Z",
     "iopub.status.busy": "2023-02-05T21:30:39.817724Z",
     "iopub.status.idle": "2023-02-05T21:30:39.833061Z",
     "shell.execute_reply": "2023-02-05T21:30:39.832276Z",
     "shell.execute_reply.started": "2023-02-05T21:30:39.818150Z"
    }
   },
   "outputs": [
    {
     "data": {
      "text/html": [
       "<div>\n",
       "<style scoped>\n",
       "    .dataframe tbody tr th:only-of-type {\n",
       "        vertical-align: middle;\n",
       "    }\n",
       "\n",
       "    .dataframe tbody tr th {\n",
       "        vertical-align: top;\n",
       "    }\n",
       "\n",
       "    .dataframe thead th {\n",
       "        text-align: right;\n",
       "    }\n",
       "</style>\n",
       "<table border=\"1\" class=\"dataframe\">\n",
       "  <thead>\n",
       "    <tr style=\"text-align: right;\">\n",
       "      <th></th>\n",
       "      <th>masked_text</th>\n",
       "      <th>target_word</th>\n",
       "    </tr>\n",
       "  </thead>\n",
       "  <tbody>\n",
       "    <tr>\n",
       "      <th>0</th>\n",
       "      <td>[Mask] comfort [Mask] quality doubt weather fa...</td>\n",
       "      <td>good</td>\n",
       "    </tr>\n",
       "    <tr>\n",
       "      <th>1</th>\n",
       "      <td>thought buying new shoe supposedly new shoe gu...</td>\n",
       "      <td>near</td>\n",
       "    </tr>\n",
       "    <tr>\n",
       "      <th>2</th>\n",
       "      <td>really [Mask] product nike comfortable wear lo...</td>\n",
       "      <td>good</td>\n",
       "    </tr>\n",
       "    <tr>\n",
       "      <th>3</th>\n",
       "      <td>comfortable shoe wearwhich made good quality l...</td>\n",
       "      <td>attracts</td>\n",
       "    </tr>\n",
       "    <tr>\n",
       "      <th>4</th>\n",
       "      <td>pleae dont buy neither looks like nike shoes  ...</td>\n",
       "      <td>cheap</td>\n",
       "    </tr>\n",
       "    <tr>\n",
       "      <th>...</th>\n",
       "      <td>...</td>\n",
       "      <td>...</td>\n",
       "    </tr>\n",
       "    <tr>\n",
       "      <th>824</th>\n",
       "      <td>earlier [Mask] serveral orders nikestoredk web...</td>\n",
       "      <td>placed</td>\n",
       "    </tr>\n",
       "    <tr>\n",
       "      <th>825</th>\n",
       "      <td>couldnt believe somebody designed trainers ord...</td>\n",
       "      <td>accepted</td>\n",
       "    </tr>\n",
       "    <tr>\n",
       "      <th>826</th>\n",
       "      <td>[Mask]ed items unfortunately fit nike gave ful...</td>\n",
       "      <td>order</td>\n",
       "    </tr>\n",
       "    <tr>\n",
       "      <th>827</th>\n",
       "      <td>recieved fantastic pair [Mask]  brand</td>\n",
       "      <td>trainers</td>\n",
       "    </tr>\n",
       "    <tr>\n",
       "      <th>828</th>\n",
       "      <td>site bomb quite often find things [Mask] buy s...</td>\n",
       "      <td>want</td>\n",
       "    </tr>\n",
       "  </tbody>\n",
       "</table>\n",
       "<p>811 rows × 2 columns</p>\n",
       "</div>"
      ],
      "text/plain": [
       "                                           masked_text target_word\n",
       "0    [Mask] comfort [Mask] quality doubt weather fa...        good\n",
       "1    thought buying new shoe supposedly new shoe gu...        near\n",
       "2    really [Mask] product nike comfortable wear lo...        good\n",
       "3    comfortable shoe wearwhich made good quality l...    attracts\n",
       "4    pleae dont buy neither looks like nike shoes  ...       cheap\n",
       "..                                                 ...         ...\n",
       "824  earlier [Mask] serveral orders nikestoredk web...      placed\n",
       "825  couldnt believe somebody designed trainers ord...    accepted\n",
       "826  [Mask]ed items unfortunately fit nike gave ful...       order\n",
       "827              recieved fantastic pair [Mask]  brand    trainers\n",
       "828  site bomb quite often find things [Mask] buy s...        want\n",
       "\n",
       "[811 rows x 2 columns]"
      ]
     },
     "execution_count": 61,
     "metadata": {},
     "output_type": "execute_result"
    }
   ],
   "source": [
    "df_masked"
   ]
  },
  {
   "cell_type": "code",
   "execution_count": 62,
   "metadata": {
    "execution": {
     "iopub.execute_input": "2023-02-05T21:30:39.835139Z",
     "iopub.status.busy": "2023-02-05T21:30:39.834520Z",
     "iopub.status.idle": "2023-02-05T21:30:39.848757Z",
     "shell.execute_reply": "2023-02-05T21:30:39.847827Z",
     "shell.execute_reply.started": "2023-02-05T21:30:39.835106Z"
    }
   },
   "outputs": [
    {
     "data": {
      "text/html": [
       "<div>\n",
       "<style scoped>\n",
       "    .dataframe tbody tr th:only-of-type {\n",
       "        vertical-align: middle;\n",
       "    }\n",
       "\n",
       "    .dataframe tbody tr th {\n",
       "        vertical-align: top;\n",
       "    }\n",
       "\n",
       "    .dataframe thead th {\n",
       "        text-align: right;\n",
       "    }\n",
       "</style>\n",
       "<table border=\"1\" class=\"dataframe\">\n",
       "  <thead>\n",
       "    <tr style=\"text-align: right;\">\n",
       "      <th></th>\n",
       "      <th>masked_text</th>\n",
       "      <th>target_word</th>\n",
       "    </tr>\n",
       "  </thead>\n",
       "  <tbody>\n",
       "    <tr>\n",
       "      <th>0</th>\n",
       "      <td>[Mask] comfort [Mask] quality doubt weather fa...</td>\n",
       "      <td>good</td>\n",
       "    </tr>\n",
       "    <tr>\n",
       "      <th>1</th>\n",
       "      <td>thought buying new shoe supposedly new shoe gu...</td>\n",
       "      <td>near</td>\n",
       "    </tr>\n",
       "    <tr>\n",
       "      <th>2</th>\n",
       "      <td>really [Mask] product nike comfortable wear lo...</td>\n",
       "      <td>good</td>\n",
       "    </tr>\n",
       "    <tr>\n",
       "      <th>3</th>\n",
       "      <td>comfortable shoe wearwhich made good quality l...</td>\n",
       "      <td>attracts</td>\n",
       "    </tr>\n",
       "    <tr>\n",
       "      <th>4</th>\n",
       "      <td>pleae dont buy neither looks like nike shoes  ...</td>\n",
       "      <td>cheap</td>\n",
       "    </tr>\n",
       "    <tr>\n",
       "      <th>...</th>\n",
       "      <td>...</td>\n",
       "      <td>...</td>\n",
       "    </tr>\n",
       "    <tr>\n",
       "      <th>806</th>\n",
       "      <td>earlier [Mask] serveral orders nikestoredk web...</td>\n",
       "      <td>placed</td>\n",
       "    </tr>\n",
       "    <tr>\n",
       "      <th>807</th>\n",
       "      <td>couldnt believe somebody designed trainers ord...</td>\n",
       "      <td>accepted</td>\n",
       "    </tr>\n",
       "    <tr>\n",
       "      <th>808</th>\n",
       "      <td>[Mask]ed items unfortunately fit nike gave ful...</td>\n",
       "      <td>order</td>\n",
       "    </tr>\n",
       "    <tr>\n",
       "      <th>809</th>\n",
       "      <td>recieved fantastic pair [Mask]  brand</td>\n",
       "      <td>trainers</td>\n",
       "    </tr>\n",
       "    <tr>\n",
       "      <th>810</th>\n",
       "      <td>site bomb quite often find things [Mask] buy s...</td>\n",
       "      <td>want</td>\n",
       "    </tr>\n",
       "  </tbody>\n",
       "</table>\n",
       "<p>811 rows × 2 columns</p>\n",
       "</div>"
      ],
      "text/plain": [
       "                                           masked_text target_word\n",
       "0    [Mask] comfort [Mask] quality doubt weather fa...        good\n",
       "1    thought buying new shoe supposedly new shoe gu...        near\n",
       "2    really [Mask] product nike comfortable wear lo...        good\n",
       "3    comfortable shoe wearwhich made good quality l...    attracts\n",
       "4    pleae dont buy neither looks like nike shoes  ...       cheap\n",
       "..                                                 ...         ...\n",
       "806  earlier [Mask] serveral orders nikestoredk web...      placed\n",
       "807  couldnt believe somebody designed trainers ord...    accepted\n",
       "808  [Mask]ed items unfortunately fit nike gave ful...       order\n",
       "809              recieved fantastic pair [Mask]  brand    trainers\n",
       "810  site bomb quite often find things [Mask] buy s...        want\n",
       "\n",
       "[811 rows x 2 columns]"
      ]
     },
     "execution_count": 62,
     "metadata": {},
     "output_type": "execute_result"
    }
   ],
   "source": [
    "df_masked.reset_index(drop=True)"
   ]
  },
  {
   "cell_type": "code",
   "execution_count": 63,
   "metadata": {
    "execution": {
     "iopub.execute_input": "2023-02-05T21:30:39.850698Z",
     "iopub.status.busy": "2023-02-05T21:30:39.850095Z",
     "iopub.status.idle": "2023-02-05T21:30:39.859379Z",
     "shell.execute_reply": "2023-02-05T21:30:39.858499Z",
     "shell.execute_reply.started": "2023-02-05T21:30:39.850662Z"
    }
   },
   "outputs": [],
   "source": [
    "def get_text_length(text):\n",
    "    return len(text.split())\n",
    "\n",
    "df_masked['text_length'] = df_masked['masked_text'].apply(get_text_length)\n"
   ]
  },
  {
   "cell_type": "code",
   "execution_count": 64,
   "metadata": {
    "execution": {
     "iopub.execute_input": "2023-02-05T21:30:39.876725Z",
     "iopub.status.busy": "2023-02-05T21:30:39.876180Z",
     "iopub.status.idle": "2023-02-05T21:30:39.885675Z",
     "shell.execute_reply": "2023-02-05T21:30:39.884303Z",
     "shell.execute_reply.started": "2023-02-05T21:30:39.876651Z"
    }
   },
   "outputs": [
    {
     "data": {
      "text/plain": [
       "(811, 3)"
      ]
     },
     "execution_count": 64,
     "metadata": {},
     "output_type": "execute_result"
    }
   ],
   "source": [
    "df_masked.shape"
   ]
  },
  {
   "cell_type": "code",
   "execution_count": 65,
   "metadata": {
    "execution": {
     "iopub.execute_input": "2023-02-05T21:30:39.888287Z",
     "iopub.status.busy": "2023-02-05T21:30:39.886915Z",
     "iopub.status.idle": "2023-02-05T21:30:39.893959Z",
     "shell.execute_reply": "2023-02-05T21:30:39.892756Z",
     "shell.execute_reply.started": "2023-02-05T21:30:39.888192Z"
    }
   },
   "outputs": [],
   "source": [
    "\n",
    "df_masked=df_masked[['masked_text','target_word']]\n"
   ]
  },
  {
   "cell_type": "code",
   "execution_count": 66,
   "metadata": {
    "execution": {
     "iopub.execute_input": "2023-02-05T21:30:39.896401Z",
     "iopub.status.busy": "2023-02-05T21:30:39.895338Z",
     "iopub.status.idle": "2023-02-05T21:30:39.908629Z",
     "shell.execute_reply": "2023-02-05T21:30:39.906782Z",
     "shell.execute_reply.started": "2023-02-05T21:30:39.896306Z"
    }
   },
   "outputs": [
    {
     "data": {
      "text/html": [
       "<div>\n",
       "<style scoped>\n",
       "    .dataframe tbody tr th:only-of-type {\n",
       "        vertical-align: middle;\n",
       "    }\n",
       "\n",
       "    .dataframe tbody tr th {\n",
       "        vertical-align: top;\n",
       "    }\n",
       "\n",
       "    .dataframe thead th {\n",
       "        text-align: right;\n",
       "    }\n",
       "</style>\n",
       "<table border=\"1\" class=\"dataframe\">\n",
       "  <thead>\n",
       "    <tr style=\"text-align: right;\">\n",
       "      <th></th>\n",
       "      <th>masked_text</th>\n",
       "      <th>target_word</th>\n",
       "    </tr>\n",
       "  </thead>\n",
       "  <tbody>\n",
       "    <tr>\n",
       "      <th>0</th>\n",
       "      <td>[Mask] comfort [Mask] quality doubt weather fa...</td>\n",
       "      <td>good</td>\n",
       "    </tr>\n",
       "    <tr>\n",
       "      <th>1</th>\n",
       "      <td>thought buying new shoe supposedly new shoe gu...</td>\n",
       "      <td>near</td>\n",
       "    </tr>\n",
       "    <tr>\n",
       "      <th>2</th>\n",
       "      <td>really [Mask] product nike comfortable wear lo...</td>\n",
       "      <td>good</td>\n",
       "    </tr>\n",
       "    <tr>\n",
       "      <th>3</th>\n",
       "      <td>comfortable shoe wearwhich made good quality l...</td>\n",
       "      <td>attracts</td>\n",
       "    </tr>\n",
       "    <tr>\n",
       "      <th>4</th>\n",
       "      <td>pleae dont buy neither looks like nike shoes  ...</td>\n",
       "      <td>cheap</td>\n",
       "    </tr>\n",
       "  </tbody>\n",
       "</table>\n",
       "</div>"
      ],
      "text/plain": [
       "                                         masked_text target_word\n",
       "0  [Mask] comfort [Mask] quality doubt weather fa...        good\n",
       "1  thought buying new shoe supposedly new shoe gu...        near\n",
       "2  really [Mask] product nike comfortable wear lo...        good\n",
       "3  comfortable shoe wearwhich made good quality l...    attracts\n",
       "4  pleae dont buy neither looks like nike shoes  ...       cheap"
      ]
     },
     "execution_count": 66,
     "metadata": {},
     "output_type": "execute_result"
    }
   ],
   "source": [
    "df_masked.head()"
   ]
  },
  {
   "cell_type": "code",
   "execution_count": 67,
   "metadata": {
    "execution": {
     "iopub.execute_input": "2023-02-05T21:30:39.910398Z",
     "iopub.status.busy": "2023-02-05T21:30:39.910036Z",
     "iopub.status.idle": "2023-02-05T21:30:39.920842Z",
     "shell.execute_reply": "2023-02-05T21:30:39.919836Z",
     "shell.execute_reply.started": "2023-02-05T21:30:39.910366Z"
    }
   },
   "outputs": [],
   "source": [
    "#save for future use\n",
    "df_masked.to_csv('masked_nike.csv',index=False)"
   ]
  },
  {
   "cell_type": "code",
   "execution_count": null,
   "metadata": {},
   "outputs": [],
   "source": []
  },
  {
   "cell_type": "code",
   "execution_count": 68,
   "metadata": {
    "execution": {
     "iopub.execute_input": "2023-02-05T21:30:39.923153Z",
     "iopub.status.busy": "2023-02-05T21:30:39.922681Z",
     "iopub.status.idle": "2023-02-05T21:30:39.928920Z",
     "shell.execute_reply": "2023-02-05T21:30:39.927183Z",
     "shell.execute_reply.started": "2023-02-05T21:30:39.923120Z"
    }
   },
   "outputs": [],
   "source": [
    "df_m=pd.read_csv('masked_nike.csv')"
   ]
  },
  {
   "cell_type": "code",
   "execution_count": 69,
   "metadata": {
    "execution": {
     "iopub.execute_input": "2023-02-05T21:30:39.931406Z",
     "iopub.status.busy": "2023-02-05T21:30:39.931118Z",
     "iopub.status.idle": "2023-02-05T21:30:39.936789Z",
     "shell.execute_reply": "2023-02-05T21:30:39.935603Z",
     "shell.execute_reply.started": "2023-02-05T21:30:39.931381Z"
    }
   },
   "outputs": [
    {
     "data": {
      "text/html": [
       "<div>\n",
       "<style scoped>\n",
       "    .dataframe tbody tr th:only-of-type {\n",
       "        vertical-align: middle;\n",
       "    }\n",
       "\n",
       "    .dataframe tbody tr th {\n",
       "        vertical-align: top;\n",
       "    }\n",
       "\n",
       "    .dataframe thead th {\n",
       "        text-align: right;\n",
       "    }\n",
       "</style>\n",
       "<table border=\"1\" class=\"dataframe\">\n",
       "  <thead>\n",
       "    <tr style=\"text-align: right;\">\n",
       "      <th></th>\n",
       "      <th>masked_text</th>\n",
       "      <th>target_word</th>\n",
       "    </tr>\n",
       "  </thead>\n",
       "  <tbody>\n",
       "    <tr>\n",
       "      <th>0</th>\n",
       "      <td>[Mask] comfort [Mask] quality doubt weather fa...</td>\n",
       "      <td>good</td>\n",
       "    </tr>\n",
       "    <tr>\n",
       "      <th>1</th>\n",
       "      <td>thought buying new shoe supposedly new shoe gu...</td>\n",
       "      <td>near</td>\n",
       "    </tr>\n",
       "    <tr>\n",
       "      <th>2</th>\n",
       "      <td>really [Mask] product nike comfortable wear lo...</td>\n",
       "      <td>good</td>\n",
       "    </tr>\n",
       "    <tr>\n",
       "      <th>3</th>\n",
       "      <td>comfortable shoe wearwhich made good quality l...</td>\n",
       "      <td>attracts</td>\n",
       "    </tr>\n",
       "    <tr>\n",
       "      <th>4</th>\n",
       "      <td>pleae dont buy neither looks like nike shoes  ...</td>\n",
       "      <td>cheap</td>\n",
       "    </tr>\n",
       "    <tr>\n",
       "      <th>...</th>\n",
       "      <td>...</td>\n",
       "      <td>...</td>\n",
       "    </tr>\n",
       "    <tr>\n",
       "      <th>806</th>\n",
       "      <td>earlier [Mask] serveral orders nikestoredk web...</td>\n",
       "      <td>placed</td>\n",
       "    </tr>\n",
       "    <tr>\n",
       "      <th>807</th>\n",
       "      <td>couldnt believe somebody designed trainers ord...</td>\n",
       "      <td>accepted</td>\n",
       "    </tr>\n",
       "    <tr>\n",
       "      <th>808</th>\n",
       "      <td>[Mask]ed items unfortunately fit nike gave ful...</td>\n",
       "      <td>order</td>\n",
       "    </tr>\n",
       "    <tr>\n",
       "      <th>809</th>\n",
       "      <td>recieved fantastic pair [Mask]  brand</td>\n",
       "      <td>trainers</td>\n",
       "    </tr>\n",
       "    <tr>\n",
       "      <th>810</th>\n",
       "      <td>site bomb quite often find things [Mask] buy s...</td>\n",
       "      <td>want</td>\n",
       "    </tr>\n",
       "  </tbody>\n",
       "</table>\n",
       "<p>811 rows × 2 columns</p>\n",
       "</div>"
      ],
      "text/plain": [
       "                                           masked_text target_word\n",
       "0    [Mask] comfort [Mask] quality doubt weather fa...        good\n",
       "1    thought buying new shoe supposedly new shoe gu...        near\n",
       "2    really [Mask] product nike comfortable wear lo...        good\n",
       "3    comfortable shoe wearwhich made good quality l...    attracts\n",
       "4    pleae dont buy neither looks like nike shoes  ...       cheap\n",
       "..                                                 ...         ...\n",
       "806  earlier [Mask] serveral orders nikestoredk web...      placed\n",
       "807  couldnt believe somebody designed trainers ord...    accepted\n",
       "808  [Mask]ed items unfortunately fit nike gave ful...       order\n",
       "809              recieved fantastic pair [Mask]  brand    trainers\n",
       "810  site bomb quite often find things [Mask] buy s...        want\n",
       "\n",
       "[811 rows x 2 columns]"
      ]
     },
     "execution_count": 69,
     "metadata": {},
     "output_type": "execute_result"
    }
   ],
   "source": [
    "df_m"
   ]
  },
  {
   "cell_type": "markdown",
   "metadata": {},
   "source": [
    "step for building model\n",
    "1. Preprocess our text data: Convert the text into a format suitable for fine-tuning, such as converting all text to lowercase, removing stop words/depends on use case, punctuation and special characters, etc.\n",
    "\n",
    "2. Mask the text: Replace a word in the text with the [Mask] placeholder to create a masked sequence. we can choose to mask a random word in each sequence or mask a specific word based on your task.\n",
    "\n",
    "3. Create the target column: Create a target column that contains the masked word from the text column.\n",
    "\n",
    "4. Convert the data into a format suitable for fine-tuning: Convert the text and target columns into numerical data suitable for fine-tuning the model.\n",
    "\n",
    "5. Split the data into train, validation, and test sets: Split the preprocessed and converted data into three sets: training, validation, and testing.\n",
    "\n",
    "6. Load the distilbert-based-uncased model: Load the pre-trained distilbert-based-uncased model from the transformers library.\n",
    "\n",
    "7. Fine-tune the model: Train the model on the training data and use the validation data to adjust the model parameters for optimal performance.\n",
    "\n",
    "8. Evaluate the model: Use the test data to evaluate the model's performance and make any necessary adjustments.\n",
    "\n",
    "9. Save the fine-tuned model: Save the fine-tuned model for future use."
   ]
  }
 ],
 "metadata": {
  "kernelspec": {
   "display_name": "Python 3 (ipykernel)",
   "language": "python",
   "name": "python3"
  },
  "language_info": {
   "codemirror_mode": {
    "name": "ipython",
    "version": 3
   },
   "file_extension": ".py",
   "mimetype": "text/x-python",
   "name": "python",
   "nbconvert_exporter": "python",
   "pygments_lexer": "ipython3",
   "version": "3.9.12"
  }
 },
 "nbformat": 4,
 "nbformat_minor": 4
}
